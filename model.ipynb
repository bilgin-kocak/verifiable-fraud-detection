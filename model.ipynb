{
  "cells": [
    {
      "cell_type": "markdown",
      "metadata": {
        "_cell_guid": "b1076dfc-b9ad-4769-8c92-a6c4dae69d19",
        "_uuid": "8f2839f25d086af736a60e9eeb907d3b93b6e0e5",
        "id": "BdoOGS_ut6cT",
        "trusted": true
      },
      "source": [
        "# Fraud Detection on Bank Payments\n",
        "\n",
        "## Fraud and detecting it\n",
        "\n",
        "Fraudulent behavior can be seen across many different fields such as e-commerce, healthcare, payment and banking systems. Fraud is a billion-dollar business and it is increasing every year. The PwC global economic crime survey of 2018 [1] found that half (49 percent) of the 7,200 companies they surveyed had experienced fraud of some kind.\n",
        "\n",
        "Even if fraud seems to be scary for businesses it can be detected using intelligent systems such as rules engines or machine learning. Most people here in Kaggle are familier with machine learning but for rule engines here is a quick information.\n",
        "    A rules engine is a software system that executes one or more business rules in a runtime production environment. These rules are generally written by domain experts for transferring the knowledge of the problem to the rules engine and from there to production. Two rules examples for fraud detection would be limiting the number of transactions in a time period (velocity rules),  denying the transactions which come from previously known fraudulent IP's and/or domains.\n",
        "    \n",
        "Rules are great for detecting some type of frauds but they can fire a lot of false positives or false negatives in some cases because they have predefined threshold values. For example let's think of a rule for denying a transaction which has an amount that is bigger than 10000 dollars for a specific user. If this user is an experienced fraudster, he/she may be aware of the fact that the system would have a threshold and he/she can just make a transaction just below the threshold value (9999 dollars).\n",
        "\n",
        "For these type of problems ML comes for help and reduce the risk of frauds and the risk of business to lose money. With the combination of rules and machine learning, detection of the fraud would be more precise and confident.\n",
        "\n",
        "## Banksim dataset\n",
        "\n",
        "We detect the fraudulent transactions from the Banksim dataset. This synthetically generated dataset consists of payments from various customers made in different time periods and with different amounts. For\n",
        "more information on the dataset you can check the [Kaggle page](https://www.kaggle.com/ntnu-testimon/banksim1) for this dataset which also has the link to the original paper.\n",
        "\n",
        "Here what we'll do in this kernel:\n",
        "1. [Exploratory Data Analysis (EDA)](#Explaratory-Data-Analysis)\n",
        "2. [Data Preprocessing](#Data-Preprocessing)\n",
        "3. [Oversampling with SMOTE](#Oversampling-with-SMOTE)\n",
        "4. [Verifiable Classifier](#K-Neighbours-Classifier)\n",
        "5. [Conclusion](#Conclusion)"
      ]
    },
    {
      "cell_type": "markdown",
      "metadata": {
        "id": "tlcBMZakt6cV"
      },
      "source": [
        "## Explaratory Data Analysis\n",
        "\n",
        "In this chapter we will perform an EDA on the data and try to gain some insight from it."
      ]
    },
    {
      "cell_type": "code",
      "execution_count": 1,
      "metadata": {
        "_cell_guid": "79c7e3d0-c299-4dcb-8224-4455121ee9b0",
        "_kg_hide-input": true,
        "_uuid": "d629ff2d2480ee46fbb7e2d37f6b5fab8052498a",
        "id": "UqyH-9QQt6cW",
        "trusted": true
      },
      "outputs": [],
      "source": [
        "# Necessary imports\n",
        "\n",
        "## Data loading, processing and for more\n",
        "import pandas as pd\n",
        "import numpy as np\n",
        "from imblearn.over_sampling import SMOTE\n",
        "\n",
        "## Visualization\n",
        "import seaborn as sns\n",
        "import matplotlib.pyplot as plt\n",
        "# set seaborn style because it prettier\n",
        "sns.set()\n",
        "\n",
        "## Metrics\n",
        "from sklearn.model_selection import train_test_split\n",
        "from sklearn.metrics import confusion_matrix, classification_report\n",
        "from sklearn.metrics import roc_curve, auc\n",
        "\n",
        "## Models\n",
        "# import xgboost as xgb\n",
        "from sklearn.neighbors import KNeighborsClassifier\n",
        "from sklearn.ensemble import RandomForestClassifier\n",
        "from sklearn.ensemble import VotingClassifier"
      ]
    },
    {
      "cell_type": "markdown",
      "metadata": {
        "_uuid": "e1b7b9feedaed877bfee5bd871c627cdbcf2e31b",
        "id": "cnFwlAX3t6cX"
      },
      "source": [
        "**Data**\n",
        "As we can see in the first rows below the dataset has 9 feature columns and a target column.\n",
        "The feature columms are :\n",
        "* **Step**: This feature represents the day from the start of simulation. It has 180 steps so simulation ran for virtually 6 months.\n",
        "* **Customer**: This feature represents the customer id\n",
        "* **zipCodeOrigin**: The zip code of origin/source.\n",
        "* **Merchant**: The merchant's id\n",
        "* **zipMerchant**: The merchant's zip code\n",
        "* **Age**: Categorized age\n",
        "    * 0: <= 18,\n",
        "    * 1: 19-25,\n",
        "    * 2: 26-35,\n",
        "    * 3: 36-45,\n",
        "    * 4: 46:55,\n",
        "    * 5: 56:65,\n",
        "    * 6: > 65\n",
        "    * U: Unknown\n",
        "* **Gender**: Gender for customer\n",
        "     * E : Enterprise,\n",
        "     * F: Female,\n",
        "     * M: Male,\n",
        "     * U: Unknown\n",
        "* **Category**: Category of the purchase. I won't write all categories here, we'll see them later in the analysis.\n",
        "* **Amount**: Amount of the purchase\n",
        "* **Fraud**: Target variable which shows if the transaction fraudulent(1) or benign(0)"
      ]
    },
    {
      "cell_type": "code",
      "execution_count": 2,
      "metadata": {
        "_kg_hide-input": true,
        "_uuid": "2bf619515c1a924cf041c419cb4a0514ba6ce820",
        "colab": {
          "base_uri": "https://localhost:8080/",
          "height": 206
        },
        "id": "KBI9IcLAt6cY",
        "outputId": "33c9c088-1a8f-4d2a-a354-3c5131a892d5",
        "trusted": true
      },
      "outputs": [
        {
          "data": {
            "text/html": [
              "<div>\n",
              "<style scoped>\n",
              "    .dataframe tbody tr th:only-of-type {\n",
              "        vertical-align: middle;\n",
              "    }\n",
              "\n",
              "    .dataframe tbody tr th {\n",
              "        vertical-align: top;\n",
              "    }\n",
              "\n",
              "    .dataframe thead th {\n",
              "        text-align: right;\n",
              "    }\n",
              "</style>\n",
              "<table border=\"1\" class=\"dataframe\">\n",
              "  <thead>\n",
              "    <tr style=\"text-align: right;\">\n",
              "      <th></th>\n",
              "      <th>step</th>\n",
              "      <th>customer</th>\n",
              "      <th>age</th>\n",
              "      <th>gender</th>\n",
              "      <th>zipcodeOri</th>\n",
              "      <th>merchant</th>\n",
              "      <th>zipMerchant</th>\n",
              "      <th>category</th>\n",
              "      <th>amount</th>\n",
              "      <th>fraud</th>\n",
              "    </tr>\n",
              "  </thead>\n",
              "  <tbody>\n",
              "    <tr>\n",
              "      <th>0</th>\n",
              "      <td>0</td>\n",
              "      <td>'C1093826151'</td>\n",
              "      <td>'4'</td>\n",
              "      <td>'M'</td>\n",
              "      <td>'28007'</td>\n",
              "      <td>'M348934600'</td>\n",
              "      <td>'28007'</td>\n",
              "      <td>'es_transportation'</td>\n",
              "      <td>4.55</td>\n",
              "      <td>0</td>\n",
              "    </tr>\n",
              "    <tr>\n",
              "      <th>1</th>\n",
              "      <td>0</td>\n",
              "      <td>'C352968107'</td>\n",
              "      <td>'2'</td>\n",
              "      <td>'M'</td>\n",
              "      <td>'28007'</td>\n",
              "      <td>'M348934600'</td>\n",
              "      <td>'28007'</td>\n",
              "      <td>'es_transportation'</td>\n",
              "      <td>39.68</td>\n",
              "      <td>0</td>\n",
              "    </tr>\n",
              "    <tr>\n",
              "      <th>2</th>\n",
              "      <td>0</td>\n",
              "      <td>'C2054744914'</td>\n",
              "      <td>'4'</td>\n",
              "      <td>'F'</td>\n",
              "      <td>'28007'</td>\n",
              "      <td>'M1823072687'</td>\n",
              "      <td>'28007'</td>\n",
              "      <td>'es_transportation'</td>\n",
              "      <td>26.89</td>\n",
              "      <td>0</td>\n",
              "    </tr>\n",
              "    <tr>\n",
              "      <th>3</th>\n",
              "      <td>0</td>\n",
              "      <td>'C1760612790'</td>\n",
              "      <td>'3'</td>\n",
              "      <td>'M'</td>\n",
              "      <td>'28007'</td>\n",
              "      <td>'M348934600'</td>\n",
              "      <td>'28007'</td>\n",
              "      <td>'es_transportation'</td>\n",
              "      <td>17.25</td>\n",
              "      <td>0</td>\n",
              "    </tr>\n",
              "    <tr>\n",
              "      <th>4</th>\n",
              "      <td>0</td>\n",
              "      <td>'C757503768'</td>\n",
              "      <td>'5'</td>\n",
              "      <td>'M'</td>\n",
              "      <td>'28007'</td>\n",
              "      <td>'M348934600'</td>\n",
              "      <td>'28007'</td>\n",
              "      <td>'es_transportation'</td>\n",
              "      <td>35.72</td>\n",
              "      <td>0</td>\n",
              "    </tr>\n",
              "  </tbody>\n",
              "</table>\n",
              "</div>"
            ],
            "text/plain": [
              "   step       customer  age gender zipcodeOri       merchant zipMerchant  \\\n",
              "0     0  'C1093826151'  '4'    'M'    '28007'   'M348934600'     '28007'   \n",
              "1     0   'C352968107'  '2'    'M'    '28007'   'M348934600'     '28007'   \n",
              "2     0  'C2054744914'  '4'    'F'    '28007'  'M1823072687'     '28007'   \n",
              "3     0  'C1760612790'  '3'    'M'    '28007'   'M348934600'     '28007'   \n",
              "4     0   'C757503768'  '5'    'M'    '28007'   'M348934600'     '28007'   \n",
              "\n",
              "              category  amount  fraud  \n",
              "0  'es_transportation'    4.55      0  \n",
              "1  'es_transportation'   39.68      0  \n",
              "2  'es_transportation'   26.89      0  \n",
              "3  'es_transportation'   17.25      0  \n",
              "4  'es_transportation'   35.72      0  "
            ]
          },
          "execution_count": 2,
          "metadata": {},
          "output_type": "execute_result"
        }
      ],
      "source": [
        "# read the data and show first 5 rows\n",
        "data = pd.read_csv(\"./bs140513_032310.csv\")\n",
        "data.head(5)"
      ]
    },
    {
      "cell_type": "markdown",
      "metadata": {
        "_uuid": "29a786fcbe642321727b007bd015cec05a198238",
        "id": "NekNT-e1t6cY"
      },
      "source": [
        "Let's look at column types and missing values in data.  Oh im sorry there is **no** missing values which means we don't have to perform an imputation."
      ]
    },
    {
      "cell_type": "code",
      "execution_count": 3,
      "metadata": {
        "_uuid": "c285fad4bda30a3b5feec97b71e0a9d1e0b7ec8c",
        "colab": {
          "base_uri": "https://localhost:8080/"
        },
        "id": "9Vaa_69jt6cZ",
        "outputId": "433cc594-bbff-4cc4-caa2-42cebf46b499",
        "trusted": true
      },
      "outputs": [
        {
          "name": "stdout",
          "output_type": "stream",
          "text": [
            "<class 'pandas.core.frame.DataFrame'>\n",
            "RangeIndex: 594643 entries, 0 to 594642\n",
            "Data columns (total 10 columns):\n",
            " #   Column       Non-Null Count   Dtype  \n",
            "---  ------       --------------   -----  \n",
            " 0   step         594643 non-null  int64  \n",
            " 1   customer     594643 non-null  object \n",
            " 2   age          594643 non-null  object \n",
            " 3   gender       594643 non-null  object \n",
            " 4   zipcodeOri   594643 non-null  object \n",
            " 5   merchant     594643 non-null  object \n",
            " 6   zipMerchant  594643 non-null  object \n",
            " 7   category     594643 non-null  object \n",
            " 8   amount       594643 non-null  float64\n",
            " 9   fraud        594643 non-null  int64  \n",
            "dtypes: float64(1), int64(2), object(7)\n",
            "memory usage: 45.4+ MB\n"
          ]
        }
      ],
      "source": [
        "data.info()"
      ]
    },
    {
      "cell_type": "markdown",
      "metadata": {
        "_uuid": "36778347862db884536c7b89e817c959acddc514",
        "id": "3dJBnmXct6cZ"
      },
      "source": [
        "**Fraud data** will be imbalanced like you see in the plot below and from the count of instances. To balance the dataset one can perform oversample or undersample techniques. Oversampling is increasing the number of the minority class by generating instances from the minority class . Undersampling is reducing the number of instances in the majority class by selecting random points from it to where it is equal with the minority class. Both operations have some risks: Oversample will create copies or similar data points which sometimes would not be helpful for the case of fraud detection because fraudulent transactions may vary. Undersampling means that we lost data points thus information. We will perform an oversampled technique called SMOTE (Synthetic Minority Over-sampling Technique). SMOTE will create new data points from minority class using the neighbour instances so generated samples are not exact copies but they are similar to instances we have."
      ]
    },
    {
      "cell_type": "code",
      "execution_count": 4,
      "metadata": {
        "_kg_hide-input": true,
        "_uuid": "ee9ed07328bb6ae710263c4e55066f3e757206a0",
        "colab": {
          "base_uri": "https://localhost:8080/",
          "height": 515
        },
        "id": "8tRjbrnVt6cZ",
        "outputId": "e72a6335-0029-4766-d7a9-6f18327178d5",
        "trusted": true
      },
      "outputs": [
        {
          "data": {
            "image/png": "[encoded data removed]",
            "text/plain": [
              "<Figure size 640x480 with 1 Axes>"
            ]
          },
          "metadata": {},
          "output_type": "display_data"
        },
        {
          "name": "stdout",
          "output_type": "stream",
          "text": [
            "Number of normal examples:  587443\n",
            "Number of fradulent examples:  7200\n"
          ]
        }
      ],
      "source": [
        "# Create two dataframes with fraud and non-fraud data\n",
        "df_fraud = data.loc[data.fraud == 1]\n",
        "df_non_fraud = data.loc[data.fraud == 0]\n",
        "\n",
        "sns.countplot(x=\"fraud\",data=data)\n",
        "plt.title(\"Count of Fraudulent Payments\")\n",
        "plt.show()\n",
        "print(\"Number of normal examples: \",df_non_fraud.fraud.count())\n",
        "print(\"Number of fradulent examples: \",df_fraud.fraud.count())\n",
        "#print(data.fraud.value_counts()) # does the same thing above"
      ]
    },
    {
      "cell_type": "markdown",
      "metadata": {
        "_uuid": "cf77a853d6b363b91512d3c3ce22717a5ed29645",
        "id": "IcBDU9lNt6ca"
      },
      "source": [
        "We can see the mean amount and fraud percent by category below. Looks like leisure and the travel is the most selected categories for fraudsters. Fraudsters chose the categories which people spend more on average. Let's confirm this hypothesis by checking the fraud and non-fraud amount transacted."
      ]
    },
    {
      "cell_type": "code",
      "execution_count": 108,
      "metadata": {
        "_uuid": "44479e279e91d208d9108112327441e5d57d5fee",
        "colab": {
          "base_uri": "https://localhost:8080/"
        },
        "id": "6o3hqtkgt6ca",
        "outputId": "c0212948-5f0f-4dbb-8c4d-4bc21fefe7e0",
        "trusted": true
      },
      "outputs": [
        {
          "name": "stdout",
          "output_type": "stream",
          "text": [
            "Mean feature values per category                               amount     fraud\n",
            "category                                      \n",
            "'es_barsandrestaurants'    43.461014  0.018829\n",
            "'es_contents'              44.547571  0.000000\n",
            "'es_fashion'               65.666642  0.017973\n",
            "'es_food'                  37.070405  0.000000\n",
            "'es_health'               135.621367  0.105126\n",
            "'es_home'                 165.670846  0.152064\n",
            "'es_hotelservices'        205.614249  0.314220\n",
            "'es_hyper'                 45.970421  0.045917\n",
            "'es_leisure'              288.911303  0.949900\n",
            "'es_otherservices'        135.881524  0.250000\n",
            "'es_sportsandtoys'        215.715280  0.495252\n",
            "'es_tech'                 120.947937  0.066667\n",
            "'es_transportation'        26.958187  0.000000\n",
            "'es_travel'              2250.409190  0.793956\n",
            "'es_wellnessandbeauty'     65.511221  0.047594\n"
          ]
        }
      ],
      "source": [
        "print(\"Mean feature values per category\",data.groupby('category')[['amount','fraud']].mean())"
      ]
    },
    {
      "cell_type": "markdown",
      "metadata": {
        "_uuid": "258b20b07d771a0fd9a7a22fda617e40ce967842",
        "id": "DSUc6iJSt6ca"
      },
      "source": [
        "Our hypothesis for fraudsters choosing the categories which people spend more is only partly correct, but as we can see in the table below we can say confidently say that a fraudulent transaction will be much more (about four times or more) than average for that category."
      ]
    },
    {
      "cell_type": "code",
      "execution_count": 9,
      "metadata": {
        "_uuid": "b5a14927d2edfb847e809969fd534e9bae339a2a",
        "colab": {
          "base_uri": "https://localhost:8080/",
          "height": 551
        },
        "id": "AM884VzYt6ca",
        "outputId": "2eb42abe-c809-484a-a3ea-a2957e78525c",
        "trusted": true
      },
      "outputs": [
        {
          "data": {
            "text/html": [
              "<div>\n",
              "<style scoped>\n",
              "    .dataframe tbody tr th:only-of-type {\n",
              "        vertical-align: middle;\n",
              "    }\n",
              "\n",
              "    .dataframe tbody tr th {\n",
              "        vertical-align: top;\n",
              "    }\n",
              "\n",
              "    .dataframe thead th {\n",
              "        text-align: right;\n",
              "    }\n",
              "</style>\n",
              "<table border=\"1\" class=\"dataframe\">\n",
              "  <thead>\n",
              "    <tr style=\"text-align: right;\">\n",
              "      <th></th>\n",
              "      <th>Fraudulent</th>\n",
              "      <th>Non-Fraudulent</th>\n",
              "      <th>Percent(%)</th>\n",
              "    </tr>\n",
              "    <tr>\n",
              "      <th>category</th>\n",
              "      <th></th>\n",
              "      <th></th>\n",
              "      <th></th>\n",
              "    </tr>\n",
              "  </thead>\n",
              "  <tbody>\n",
              "    <tr>\n",
              "      <th>'es_transportation'</th>\n",
              "      <td>NaN</td>\n",
              "      <td>26.958187</td>\n",
              "      <td>0.000000</td>\n",
              "    </tr>\n",
              "    <tr>\n",
              "      <th>'es_food'</th>\n",
              "      <td>NaN</td>\n",
              "      <td>37.070405</td>\n",
              "      <td>0.000000</td>\n",
              "    </tr>\n",
              "    <tr>\n",
              "      <th>'es_hyper'</th>\n",
              "      <td>169.255429</td>\n",
              "      <td>40.037145</td>\n",
              "      <td>4.591669</td>\n",
              "    </tr>\n",
              "    <tr>\n",
              "      <th>'es_barsandrestaurants'</th>\n",
              "      <td>164.092667</td>\n",
              "      <td>41.145997</td>\n",
              "      <td>1.882944</td>\n",
              "    </tr>\n",
              "    <tr>\n",
              "      <th>'es_contents'</th>\n",
              "      <td>NaN</td>\n",
              "      <td>44.547571</td>\n",
              "      <td>0.000000</td>\n",
              "    </tr>\n",
              "    <tr>\n",
              "      <th>'es_wellnessandbeauty'</th>\n",
              "      <td>229.422535</td>\n",
              "      <td>57.320219</td>\n",
              "      <td>4.759380</td>\n",
              "    </tr>\n",
              "    <tr>\n",
              "      <th>'es_fashion'</th>\n",
              "      <td>247.008190</td>\n",
              "      <td>62.347674</td>\n",
              "      <td>1.797335</td>\n",
              "    </tr>\n",
              "    <tr>\n",
              "      <th>'es_leisure'</th>\n",
              "      <td>300.286878</td>\n",
              "      <td>73.230400</td>\n",
              "      <td>94.989980</td>\n",
              "    </tr>\n",
              "    <tr>\n",
              "      <th>'es_otherservices'</th>\n",
              "      <td>316.469605</td>\n",
              "      <td>75.685497</td>\n",
              "      <td>25.000000</td>\n",
              "    </tr>\n",
              "    <tr>\n",
              "      <th>'es_sportsandtoys'</th>\n",
              "      <td>345.366811</td>\n",
              "      <td>88.502738</td>\n",
              "      <td>49.525237</td>\n",
              "    </tr>\n",
              "    <tr>\n",
              "      <th>'es_tech'</th>\n",
              "      <td>415.274114</td>\n",
              "      <td>99.924638</td>\n",
              "      <td>6.666667</td>\n",
              "    </tr>\n",
              "    <tr>\n",
              "      <th>'es_health'</th>\n",
              "      <td>407.031338</td>\n",
              "      <td>103.737228</td>\n",
              "      <td>10.512614</td>\n",
              "    </tr>\n",
              "    <tr>\n",
              "      <th>'es_hotelservices'</th>\n",
              "      <td>421.823339</td>\n",
              "      <td>106.548545</td>\n",
              "      <td>31.422018</td>\n",
              "    </tr>\n",
              "    <tr>\n",
              "      <th>'es_home'</th>\n",
              "      <td>457.484834</td>\n",
              "      <td>113.338409</td>\n",
              "      <td>15.206445</td>\n",
              "    </tr>\n",
              "    <tr>\n",
              "      <th>'es_travel'</th>\n",
              "      <td>2660.802872</td>\n",
              "      <td>669.025533</td>\n",
              "      <td>79.395604</td>\n",
              "    </tr>\n",
              "  </tbody>\n",
              "</table>\n",
              "</div>"
            ],
            "text/plain": [
              "                          Fraudulent  Non-Fraudulent  Percent(%)\n",
              "category                                                        \n",
              "'es_transportation'              NaN       26.958187    0.000000\n",
              "'es_food'                        NaN       37.070405    0.000000\n",
              "'es_hyper'                169.255429       40.037145    4.591669\n",
              "'es_barsandrestaurants'   164.092667       41.145997    1.882944\n",
              "'es_contents'                    NaN       44.547571    0.000000\n",
              "'es_wellnessandbeauty'    229.422535       57.320219    4.759380\n",
              "'es_fashion'              247.008190       62.347674    1.797335\n",
              "'es_leisure'              300.286878       73.230400   94.989980\n",
              "'es_otherservices'        316.469605       75.685497   25.000000\n",
              "'es_sportsandtoys'        345.366811       88.502738   49.525237\n",
              "'es_tech'                 415.274114       99.924638    6.666667\n",
              "'es_health'               407.031338      103.737228   10.512614\n",
              "'es_hotelservices'        421.823339      106.548545   31.422018\n",
              "'es_home'                 457.484834      113.338409   15.206445\n",
              "'es_travel'              2660.802872      669.025533   79.395604"
            ]
          },
          "execution_count": 9,
          "metadata": {},
          "output_type": "execute_result"
        }
      ],
      "source": [
        "# Create two dataframes with fraud and non-fraud data\n",
        "pd.concat([df_fraud.groupby('category')['amount'].mean(),df_non_fraud.groupby('category')['amount'].mean(),\\\n",
        "           data.groupby('category')['fraud'].mean()*100],keys=[\"Fraudulent\",\"Non-Fraudulent\",\"Percent(%)\"],axis=1,\\\n",
        "          sort=False).sort_values(by=['Non-Fraudulent'])"
      ]
    },
    {
      "cell_type": "markdown",
      "metadata": {
        "_uuid": "e41aeb2f2c6b898ebbcb5b4222fd44ca8e87c8ae",
        "id": "AuNYOiXft6cb"
      },
      "source": [
        "Average amount spend it categories are similar; between 0-500 discarding the outliers, except for the travel category which goes very high."
      ]
    },
    {
      "cell_type": "code",
      "execution_count": 10,
      "metadata": {
        "_kg_hide-input": false,
        "_uuid": "290e7163a62fb029fcbdf45a3d35c7c0d58c423d",
        "colab": {
          "base_uri": "https://localhost:8080/",
          "height": 569
        },
        "id": "8IeaMdgdt6cb",
        "outputId": "6858d081-20e7-4c38-a5e3-2f946e8974bd",
        "trusted": true
      },
      "outputs": [
        {
          "name": "stderr",
          "output_type": "stream",
          "text": [
            "No artists with labels found to put in legend.  Note that artists whose label start with an underscore are ignored when legend() is called with no argument.\n"
          ]
        },
        {
          "data": {
            "image/png": "[encoded data removed]",
            "text/plain": [
              "<Figure size 3000x1000 with 1 Axes>"
            ]
          },
          "metadata": {},
          "output_type": "display_data"
        }
      ],
      "source": [
        "# Plot histograms of the amounts in fraud and non-fraud data\n",
        "plt.figure(figsize=(30,10))\n",
        "sns.boxplot(x=data.category,y=data.amount)\n",
        "plt.title(\"Boxplot for the Amount spend in category\")\n",
        "plt.ylim(0,4000)\n",
        "plt.legend()\n",
        "plt.show()"
      ]
    },
    {
      "cell_type": "markdown",
      "metadata": {
        "_uuid": "69dbe47eb7f490030006aaa42bac0a7414b3c100",
        "id": "IBTxX6f4t6cb"
      },
      "source": [
        "Again we can see in the histogram below the fradulent transactions are less in count but more in amount."
      ]
    },
    {
      "cell_type": "code",
      "execution_count": 11,
      "metadata": {
        "_uuid": "93272d1343f6783a0152a80b5a177541faed8e25",
        "colab": {
          "base_uri": "https://localhost:8080/",
          "height": 457
        },
        "id": "N_AAsjC0t6cb",
        "outputId": "ca472bab-49dc-40be-c407-1ebc60c88b03",
        "trusted": true
      },
      "outputs": [
        {
          "data": {
            "image/png": "[encoded data removed]",
            "text/plain": [
              "<Figure size 640x480 with 1 Axes>"
            ]
          },
          "metadata": {},
          "output_type": "display_data"
        }
      ],
      "source": [
        "# Plot histograms of the amounts in fraud and non-fraud data\n",
        "plt.hist(df_fraud.amount, alpha=0.5, label='fraud',bins=100)\n",
        "plt.hist(df_non_fraud.amount, alpha=0.5, label='nonfraud',bins=100)\n",
        "plt.title(\"Histogram for fraudulent and nonfraudulent payments\")\n",
        "plt.ylim(0,10000)\n",
        "plt.xlim(0,1000)\n",
        "plt.legend()\n",
        "plt.show()"
      ]
    },
    {
      "cell_type": "markdown",
      "metadata": {
        "_uuid": "76c33765a55bb89e0fb8a5d1cd55aa6bd7727dfa",
        "id": "Smv6hDeSt6cb"
      },
      "source": [
        "Looks like fraud occurs more in ages equal and below 18(0th category). Can it be because of fraudsters thinking it would be less consequences if they show their age younger, or maybe they really are young."
      ]
    },
    {
      "cell_type": "code",
      "execution_count": 12,
      "metadata": {
        "_uuid": "d5e387216fa347c7f437c7f187095edd3912f848",
        "colab": {
          "base_uri": "https://localhost:8080/"
        },
        "id": "EfKi9Wmct6cb",
        "outputId": "f41d4508-3a7c-4171-ec83-1ed1fa90a54b",
        "trusted": true
      },
      "outputs": [
        {
          "name": "stdout",
          "output_type": "stream",
          "text": [
            "   Age  Fraud Percent\n",
            "7  'U'       0.594228\n",
            "6  '6'       0.974826\n",
            "5  '5'       1.095112\n",
            "1  '1'       1.185254\n",
            "3  '3'       1.192815\n",
            "2  '2'       1.251401\n",
            "4  '4'       1.293281\n",
            "0  '0'       1.957586\n"
          ]
        }
      ],
      "source": [
        "print((data.groupby('age')['fraud'].mean()*100).reset_index().rename(columns={'age':'Age','fraud' : 'Fraud Percent'}).sort_values(by='Fraud Percent'))"
      ]
    },
    {
      "cell_type": "markdown",
      "metadata": {
        "_uuid": "23001479b16bd3f01682dedd94b47a3f231a7c9e",
        "id": "FZcCUa3Xt6cb"
      },
      "source": [
        "## Data Preprocessing\n",
        "\n",
        "In this part we will preprocess the data and prepare for the training.\n",
        "\n",
        "There are only one unique zipCode values so we will drop them."
      ]
    },
    {
      "cell_type": "code",
      "execution_count": 13,
      "metadata": {
        "_uuid": "47246c26a027470f30ea0a5e4a149e6dbb951403",
        "colab": {
          "base_uri": "https://localhost:8080/"
        },
        "id": "lBWeuCxBt6cc",
        "outputId": "57bd2940-c386-4847-8591-24f7021938aa",
        "trusted": true
      },
      "outputs": [
        {
          "name": "stdout",
          "output_type": "stream",
          "text": [
            "Unique zipCodeOri values:  1\n",
            "Unique zipMerchant values:  1\n"
          ]
        }
      ],
      "source": [
        "print(\"Unique zipCodeOri values: \",data.zipcodeOri.nunique())\n",
        "print(\"Unique zipMerchant values: \",data.zipMerchant.nunique())\n",
        "# dropping zipcodeori and zipMerchant since they have only one unique value\n",
        "data_reduced = data.drop(['zipcodeOri','zipMerchant'],axis=1)"
      ]
    },
    {
      "cell_type": "markdown",
      "metadata": {
        "_uuid": "7f589a60028130489740b7ceaa12ca7c4879c2e7",
        "id": "gB53gckSt6cc"
      },
      "source": [
        "Checking the data after dropping."
      ]
    },
    {
      "cell_type": "code",
      "execution_count": 14,
      "metadata": {
        "_uuid": "4b5689fb2da6f4ab7d4ba8e707530ea10753e8bb",
        "colab": {
          "base_uri": "https://localhost:8080/"
        },
        "id": "WLGyKqaEt6cc",
        "outputId": "38f9059d-7c29-48d4-dc4d-90c4ffbb0d18",
        "trusted": true
      },
      "outputs": [
        {
          "data": {
            "text/plain": [
              "Index(['step', 'customer', 'age', 'gender', 'merchant', 'category', 'amount',\n",
              "       'fraud'],\n",
              "      dtype='object')"
            ]
          },
          "execution_count": 14,
          "metadata": {},
          "output_type": "execute_result"
        }
      ],
      "source": [
        "data_reduced.columns"
      ]
    },
    {
      "cell_type": "markdown",
      "metadata": {
        "_uuid": "5da150a203f2ab7e310af70365a4e90f7f522168",
        "id": "5G91SnIut6cc"
      },
      "source": [
        "Here we will transform categorical features into numerical values. It is usually better to turn these type of categorical values into dummies because they have no relation in size(i.e. customer1 is not greater than customer2) but since they are too many (over 500k customers and merchants) the features will grow 10^5 in size and it will take forever to train. I've put the code below for turning categorical features into dummies if you want to give it a try.\n",
        "> data_reduced.loc[:,['customer','merchant','category']].astype('category')\n",
        "> data_dum = pd.get_dummies(data_reduced.loc[:,['customer','merchant','category','gender']],drop_first=True) # dummies\n",
        "> print(data_dum.info())"
      ]
    },
    {
      "cell_type": "code",
      "execution_count": 15,
      "metadata": {
        "_uuid": "4d7d4e448b2fa8c9313810f7c24b6e010af719e4",
        "colab": {
          "base_uri": "https://localhost:8080/",
          "height": 206
        },
        "id": "2D4lXrITt6cc",
        "outputId": "f7e8f62e-3c0d-415b-849e-04b40858264b",
        "trusted": true
      },
      "outputs": [
        {
          "data": {
            "text/html": [
              "<div>\n",
              "<style scoped>\n",
              "    .dataframe tbody tr th:only-of-type {\n",
              "        vertical-align: middle;\n",
              "    }\n",
              "\n",
              "    .dataframe tbody tr th {\n",
              "        vertical-align: top;\n",
              "    }\n",
              "\n",
              "    .dataframe thead th {\n",
              "        text-align: right;\n",
              "    }\n",
              "</style>\n",
              "<table border=\"1\" class=\"dataframe\">\n",
              "  <thead>\n",
              "    <tr style=\"text-align: right;\">\n",
              "      <th></th>\n",
              "      <th>step</th>\n",
              "      <th>customer</th>\n",
              "      <th>age</th>\n",
              "      <th>gender</th>\n",
              "      <th>merchant</th>\n",
              "      <th>category</th>\n",
              "      <th>amount</th>\n",
              "      <th>fraud</th>\n",
              "    </tr>\n",
              "  </thead>\n",
              "  <tbody>\n",
              "    <tr>\n",
              "      <th>0</th>\n",
              "      <td>0</td>\n",
              "      <td>210</td>\n",
              "      <td>4</td>\n",
              "      <td>2</td>\n",
              "      <td>30</td>\n",
              "      <td>12</td>\n",
              "      <td>4.55</td>\n",
              "      <td>0</td>\n",
              "    </tr>\n",
              "    <tr>\n",
              "      <th>1</th>\n",
              "      <td>0</td>\n",
              "      <td>2753</td>\n",
              "      <td>2</td>\n",
              "      <td>2</td>\n",
              "      <td>30</td>\n",
              "      <td>12</td>\n",
              "      <td>39.68</td>\n",
              "      <td>0</td>\n",
              "    </tr>\n",
              "    <tr>\n",
              "      <th>2</th>\n",
              "      <td>0</td>\n",
              "      <td>2285</td>\n",
              "      <td>4</td>\n",
              "      <td>1</td>\n",
              "      <td>18</td>\n",
              "      <td>12</td>\n",
              "      <td>26.89</td>\n",
              "      <td>0</td>\n",
              "    </tr>\n",
              "    <tr>\n",
              "      <th>3</th>\n",
              "      <td>0</td>\n",
              "      <td>1650</td>\n",
              "      <td>3</td>\n",
              "      <td>2</td>\n",
              "      <td>30</td>\n",
              "      <td>12</td>\n",
              "      <td>17.25</td>\n",
              "      <td>0</td>\n",
              "    </tr>\n",
              "    <tr>\n",
              "      <th>4</th>\n",
              "      <td>0</td>\n",
              "      <td>3585</td>\n",
              "      <td>5</td>\n",
              "      <td>2</td>\n",
              "      <td>30</td>\n",
              "      <td>12</td>\n",
              "      <td>35.72</td>\n",
              "      <td>0</td>\n",
              "    </tr>\n",
              "  </tbody>\n",
              "</table>\n",
              "</div>"
            ],
            "text/plain": [
              "   step  customer  age  gender  merchant  category  amount  fraud\n",
              "0     0       210    4       2        30        12    4.55      0\n",
              "1     0      2753    2       2        30        12   39.68      0\n",
              "2     0      2285    4       1        18        12   26.89      0\n",
              "3     0      1650    3       2        30        12   17.25      0\n",
              "4     0      3585    5       2        30        12   35.72      0"
            ]
          },
          "execution_count": 15,
          "metadata": {},
          "output_type": "execute_result"
        }
      ],
      "source": [
        "# turning object columns type to categorical for easing the transformation process\n",
        "col_categorical = data_reduced.select_dtypes(include= ['object']).columns\n",
        "for col in col_categorical:\n",
        "    data_reduced[col] = data_reduced[col].astype('category')\n",
        "# categorical values ==> numeric values\n",
        "data_reduced[col_categorical] = data_reduced[col_categorical].apply(lambda x: x.cat.codes)\n",
        "data_reduced.head(5)"
      ]
    },
    {
      "cell_type": "markdown",
      "metadata": {
        "_uuid": "37f7ed8c735c17e699e36cc34699df01a2fddda8",
        "id": "JUEz9q-lt6cc"
      },
      "source": [
        "Let's define our independent variable (X) and dependant/target variable y"
      ]
    },
    {
      "cell_type": "code",
      "execution_count": 16,
      "metadata": {
        "_uuid": "bca1ece9de83b5f0db01cc4e3fbb9799bdcc3e22",
        "colab": {
          "base_uri": "https://localhost:8080/"
        },
        "id": "aQcKXt96t6cc",
        "outputId": "cfb9127c-eccd-455b-d740-260975a6332f",
        "trusted": true
      },
      "outputs": [
        {
          "name": "stdout",
          "output_type": "stream",
          "text": [
            "   step  customer  age  gender  merchant  category  amount\n",
            "0     0       210    4       2        30        12    4.55\n",
            "1     0      2753    2       2        30        12   39.68\n",
            "2     0      2285    4       1        18        12   26.89\n",
            "3     0      1650    3       2        30        12   17.25\n",
            "4     0      3585    5       2        30        12   35.72 \n",
            "\n",
            "0    0\n",
            "1    0\n",
            "2    0\n",
            "3    0\n",
            "4    0\n",
            "Name: fraud, dtype: int64\n"
          ]
        }
      ],
      "source": [
        "X = data_reduced.drop(['fraud'],axis=1)\n",
        "y = data['fraud']\n",
        "print(X.head(),\"\\n\")\n",
        "print(y.head())"
      ]
    },
    {
      "cell_type": "code",
      "execution_count": 17,
      "metadata": {
        "_uuid": "474518cb2bb397a51477e826541fc33c62d2d492",
        "colab": {
          "base_uri": "https://localhost:8080/"
        },
        "id": "8nBEbx5rt6cc",
        "outputId": "d6ecf6d3-8857-43f4-dfe0-672ff1f544c6",
        "trusted": true
      },
      "outputs": [
        {
          "data": {
            "text/plain": [
              "7200"
            ]
          },
          "execution_count": 17,
          "metadata": {},
          "output_type": "execute_result"
        }
      ],
      "source": [
        "y[y==1].count()"
      ]
    },
    {
      "cell_type": "markdown",
      "metadata": {
        "_uuid": "37bca88900f65dd21a308beca5cc615fe4a40c31",
        "id": "gx7zfBj2t6cd"
      },
      "source": [
        "## Oversampling with SMOTE\n",
        "\n",
        "Using SMOTE(Synthetic Minority Oversampling Technique) [2] for balancing the dataset. Resulted counts show that now we have exact number of class instances (1 and 0)."
      ]
    },
    {
      "cell_type": "code",
      "execution_count": 18,
      "metadata": {
        "_uuid": "784e528eb3ea2ceb20af530a516911279d5df8f4",
        "colab": {
          "base_uri": "https://localhost:8080/"
        },
        "id": "bGKOwYMat6cd",
        "outputId": "96201af6-0402-4f15-fa5c-3081eb846dcc",
        "trusted": true
      },
      "outputs": [
        {
          "name": "stdout",
          "output_type": "stream",
          "text": [
            "fraud\n",
            "0        587443\n",
            "1        587443\n",
            "Name: count, dtype: int64\n"
          ]
        }
      ],
      "source": [
        "sm = SMOTE(random_state=42)\n",
        "X_res, y_res = sm.fit_resample(X, y)\n",
        "y_res = pd.DataFrame(y_res)\n",
        "print(y_res.value_counts())"
      ]
    },
    {
      "cell_type": "markdown",
      "metadata": {
        "_uuid": "4cafd096d0bd1bbe528eb8d5f7d943d58fd277db",
        "id": "HbQogGg1t6cd"
      },
      "source": [
        "I will do a train test split for measuring the performance. I haven't done cross validation since we have a lot of instances and i don't want to wait that much for training but it should be better to cross validate most of the times."
      ]
    },
    {
      "cell_type": "code",
      "execution_count": 37,
      "metadata": {
        "_uuid": "1c4f59c9cec206b7fa56e61a1202050f8966a94b",
        "id": "jfUC_5Q-t6cd",
        "trusted": true
      },
      "outputs": [],
      "source": [
        "# I won't do cross validation since we have a lot of instances\n",
        "X_train, X_test, Y_train, Y_test = train_test_split(X_res,y_res,test_size=0.3,random_state=42,shuffle=True,stratify=y_res)"
      ]
    },
    {
      "cell_type": "markdown",
      "metadata": {
        "_uuid": "47b6d299e0a3c08509066a19b2b225bf37acf0ad",
        "id": "YqBAQzyWt6cd"
      },
      "source": [
        "I will define a function for plotting the ROC_AUC curve. It is a good visual way to see the classification performance."
      ]
    },
    {
      "cell_type": "code",
      "execution_count": 38,
      "metadata": {
        "_uuid": "c15c0a19c3fe5402109c9e54e58d0402c40107dd",
        "id": "Mm2VTgjrt6cd",
        "trusted": true
      },
      "outputs": [],
      "source": [
        "# %% Function for plotting ROC_AUC curve\n",
        "\n",
        "def plot_roc_auc(y_test, preds):\n",
        "    '''\n",
        "    Takes actual and predicted(probabilities) as input and plots the Receiver\n",
        "    Operating Characteristic (ROC) curve\n",
        "    '''\n",
        "    fpr, tpr, threshold = roc_curve(y_test, preds)\n",
        "    roc_auc = auc(fpr, tpr)\n",
        "    plt.title('Receiver Operating Characteristic')\n",
        "    plt.plot(fpr, tpr, 'b', label = 'AUC = %0.2f' % roc_auc)\n",
        "    plt.legend(loc = 'lower right')\n",
        "    plt.plot([0, 1], [0, 1],'r--')\n",
        "    plt.xlim([0, 1])\n",
        "    plt.ylim([0, 1])\n",
        "    plt.ylabel('True Positive Rate')\n",
        "    plt.xlabel('False Positive Rate')\n",
        "    plt.show()"
      ]
    },
    {
      "cell_type": "markdown",
      "metadata": {
        "_uuid": "589632daf9c07f7903870ecbf183c2057e10d4be",
        "id": "UFy1FL9ct6cd"
      },
      "source": [
        "As i talked about it before fraud datasets will be imbalanced and most of the instances will be non-fraudulent. Imagine that we have the dataset here and we are always predicting non-fraudulent. Our accuracy would be almost 99 % for this dataset and mostly for others as well since fraud percentage is very low. Our accuracy is very high but we are not detecting any frauds so it is a useless classifier. So the base accuracy score should be better at least than predicting always non-fraudulent for performing a detection."
      ]
    },
    {
      "cell_type": "code",
      "execution_count": 39,
      "metadata": {
        "_uuid": "0bacd9ca1db82f754e402ce66b654df460d51f88",
        "colab": {
          "base_uri": "https://localhost:8080/"
        },
        "id": "aGgUh-Nct6cd",
        "outputId": "9568946b-b29d-4b7d-fb7a-f39176698a9a",
        "trusted": true
      },
      "outputs": [
        {
          "name": "stdout",
          "output_type": "stream",
          "text": [
            "Base accuracy score we must beat is:  98.7891894800746\n"
          ]
        }
      ],
      "source": [
        "# The base score should be better than predicting always non-fraduelent\n",
        "print(\"Base accuracy score we must beat is: \",\n",
        "      df_non_fraud.fraud.count()/ np.add(df_non_fraud.fraud.count(),df_fraud.fraud.count()) * 100)"
      ]
    },
    {
      "cell_type": "code",
      "execution_count": 40,
      "metadata": {
        "colab": {
          "base_uri": "https://localhost:8080/",
          "height": 206
        },
        "id": "KSutnWMex644",
        "outputId": "1a3c67d5-9da3-4c5c-b808-9391e8b74f25"
      },
      "outputs": [
        {
          "data": {
            "text/html": [
              "<div>\n",
              "<style scoped>\n",
              "    .dataframe tbody tr th:only-of-type {\n",
              "        vertical-align: middle;\n",
              "    }\n",
              "\n",
              "    .dataframe tbody tr th {\n",
              "        vertical-align: top;\n",
              "    }\n",
              "\n",
              "    .dataframe thead th {\n",
              "        text-align: right;\n",
              "    }\n",
              "</style>\n",
              "<table border=\"1\" class=\"dataframe\">\n",
              "  <thead>\n",
              "    <tr style=\"text-align: right;\">\n",
              "      <th></th>\n",
              "      <th>step</th>\n",
              "      <th>customer</th>\n",
              "      <th>age</th>\n",
              "      <th>gender</th>\n",
              "      <th>merchant</th>\n",
              "      <th>category</th>\n",
              "      <th>amount</th>\n",
              "    </tr>\n",
              "  </thead>\n",
              "  <tbody>\n",
              "    <tr>\n",
              "      <th>903303</th>\n",
              "      <td>150</td>\n",
              "      <td>1005</td>\n",
              "      <td>3</td>\n",
              "      <td>1</td>\n",
              "      <td>35</td>\n",
              "      <td>4</td>\n",
              "      <td>318.801009</td>\n",
              "    </tr>\n",
              "    <tr>\n",
              "      <th>721176</th>\n",
              "      <td>63</td>\n",
              "      <td>496</td>\n",
              "      <td>2</td>\n",
              "      <td>1</td>\n",
              "      <td>49</td>\n",
              "      <td>10</td>\n",
              "      <td>607.125045</td>\n",
              "    </tr>\n",
              "    <tr>\n",
              "      <th>680561</th>\n",
              "      <td>82</td>\n",
              "      <td>2421</td>\n",
              "      <td>2</td>\n",
              "      <td>1</td>\n",
              "      <td>21</td>\n",
              "      <td>9</td>\n",
              "      <td>326.437076</td>\n",
              "    </tr>\n",
              "    <tr>\n",
              "      <th>1154749</th>\n",
              "      <td>18</td>\n",
              "      <td>598</td>\n",
              "      <td>4</td>\n",
              "      <td>1</td>\n",
              "      <td>40</td>\n",
              "      <td>13</td>\n",
              "      <td>2086.201087</td>\n",
              "    </tr>\n",
              "    <tr>\n",
              "      <th>752766</th>\n",
              "      <td>55</td>\n",
              "      <td>2809</td>\n",
              "      <td>1</td>\n",
              "      <td>1</td>\n",
              "      <td>42</td>\n",
              "      <td>5</td>\n",
              "      <td>1141.199516</td>\n",
              "    </tr>\n",
              "  </tbody>\n",
              "</table>\n",
              "</div>"
            ],
            "text/plain": [
              "         step  customer  age  gender  merchant  category       amount\n",
              "903303    150      1005    3       1        35         4   318.801009\n",
              "721176     63       496    2       1        49        10   607.125045\n",
              "680561     82      2421    2       1        21         9   326.437076\n",
              "1154749    18       598    4       1        40        13  2086.201087\n",
              "752766     55      2809    1       1        42         5  1141.199516"
            ]
          },
          "execution_count": 40,
          "metadata": {},
          "output_type": "execute_result"
        }
      ],
      "source": [
        "X_train.head()"
      ]
    },
    {
      "cell_type": "markdown",
      "metadata": {},
      "source": [
        "## Giza"
      ]
    },
    {
      "cell_type": "code",
      "execution_count": 23,
      "metadata": {
        "colab": {
          "base_uri": "https://localhost:8080/"
        },
        "id": "bbmS07Z73rej",
        "outputId": "afa3853a-84dc-4685-f138-109ae6f060b5"
      },
      "outputs": [
        {
          "name": "stdout",
          "output_type": "stream",
          "text": [
            "\u001b[1;33m[\u001b[0m\u001b[33mWARN\u001b[0m\u001b[1;33m]\u001b[0m\u001b[1m[\u001b[0m\u001b[1;36m2024\u001b[0m-\u001b[1;36m02\u001b[0m-\u001b[1;36m26\u001b[0m \u001b[1;92m18:35:12\u001b[0m.\u001b[1;36m271\u001b[0m\u001b[1m]\u001b[0m \u001b[33mCurrent version of Giza CLI: \u001b[0m\u001b[1;33m0.11\u001b[0m\u001b[33m.\u001b[0m\u001b[1;33m0\u001b[0m\n",
            "\u001b[1;33m[\u001b[0m\u001b[33mWARN\u001b[0m\u001b[1;33m]\u001b[0m\u001b[1m[\u001b[0m\u001b[1;36m2024\u001b[0m-\u001b[1;36m02\u001b[0m-\u001b[1;36m26\u001b[0m \u001b[1;92m18:35:12\u001b[0m.\u001b[1;36m277\u001b[0m\u001b[1m]\u001b[0m \u001b[33mA new version \u001b[0m\u001b[1;33m(\u001b[0m\u001b[1;33m0.12\u001b[0m\u001b[33m.\u001b[0m\u001b[1;33m1\u001b[0m\u001b[1;33m)\u001b[0m\u001b[33m is available. Please upgrade 🔔\u001b[0m\n",
            "Enter your username 😎: ^C\n",
            "\u001b[31mAborted.\u001b[0m\n"
          ]
        }
      ],
      "source": [
        "!giza users login"
      ]
    },
    {
      "cell_type": "code",
      "execution_count": null,
      "metadata": {
        "colab": {
          "base_uri": "https://localhost:8080/"
        },
        "id": "pyUEs07J4ORC",
        "outputId": "5ee3e3fb-6b7a-4044-ac1c-4936ff7e0627"
      },
      "outputs": [
        {
          "name": "stdout",
          "output_type": "stream",
          "text": [
            "\u001b[1;33m[\u001b[0m\u001b[33mWARN\u001b[0m\u001b[1;33m]\u001b[0m\u001b[1m[\u001b[0m\u001b[1;36m2024\u001b[0m-\u001b[1;36m02\u001b[0m-\u001b[1;36m25\u001b[0m \u001b[1;92m10:47:59\u001b[0m.\u001b[1;36m971\u001b[0m\u001b[1m]\u001b[0m \u001b[33mCurrent version of Giza CLI: \u001b[0m\u001b[1;33m0.11\u001b[0m\u001b[33m.\u001b[0m\u001b[1;33m0\u001b[0m\n",
            "\u001b[1;33m[\u001b[0m\u001b[33mWARN\u001b[0m\u001b[1;33m]\u001b[0m\u001b[1m[\u001b[0m\u001b[1;36m2024\u001b[0m-\u001b[1;36m02\u001b[0m-\u001b[1;36m25\u001b[0m \u001b[1;92m10:47:59\u001b[0m.\u001b[1;36m974\u001b[0m\u001b[1m]\u001b[0m \u001b[33mA new version \u001b[0m\u001b[1;33m(\u001b[0m\u001b[1;33m0.12\u001b[0m\u001b[33m.\u001b[0m\u001b[1;33m1\u001b[0m\u001b[1;33m)\u001b[0m\u001b[33m is available. Please upgrade 🔔\u001b[0m\n",
            "\u001b[1;33m[\u001b[0m\u001b[33mgiza\u001b[0m\u001b[1;33m]\u001b[0m\u001b[1m[\u001b[0m\u001b[1;36m2024\u001b[0m-\u001b[1;36m02\u001b[0m-\u001b[1;36m25\u001b[0m \u001b[1;92m10:47:59\u001b[0m.\u001b[1;36m977\u001b[0m\u001b[1m]\u001b[0m Creating API Key ✅ \n",
            "\u001b[1;33m[\u001b[0m\u001b[33mgiza\u001b[0m\u001b[1;33m]\u001b[0m\u001b[1m[\u001b[0m\u001b[1;36m2024\u001b[0m-\u001b[1;36m02\u001b[0m-\u001b[1;36m25\u001b[0m \u001b[1;92m10:48:00\u001b[0m.\u001b[1;36m437\u001b[0m\u001b[1m]\u001b[0m API Key written to: \u001b[35m/root/.giza/\u001b[0m\u001b[95m.api_key.json\u001b[0m\n",
            "\u001b[1;33m[\u001b[0m\u001b[33mgiza\u001b[0m\u001b[1;33m]\u001b[0m\u001b[1m[\u001b[0m\u001b[1;36m2024\u001b[0m-\u001b[1;36m02\u001b[0m-\u001b[1;36m25\u001b[0m \u001b[1;92m10:48:00\u001b[0m.\u001b[1;36m438\u001b[0m\u001b[1m]\u001b[0m Successfully created API Key. It will be used for future requests ✅ \n"
          ]
        }
      ],
      "source": [
        "!giza users create-api-key"
      ]
    },
    {
      "cell_type": "code",
      "execution_count": null,
      "metadata": {
        "colab": {
          "base_uri": "https://localhost:8080/"
        },
        "id": "kvw-p3734ZGb",
        "outputId": "aedd89db-9ea5-4821-b664-bcbb5f423fe0"
      },
      "outputs": [
        {
          "name": "stdout",
          "output_type": "stream",
          "text": [
            "\u001b[1;33m[\u001b[0m\u001b[33mWARN\u001b[0m\u001b[1;33m]\u001b[0m\u001b[1m[\u001b[0m\u001b[1;36m2024\u001b[0m-\u001b[1;36m02\u001b[0m-\u001b[1;36m25\u001b[0m \u001b[1;92m10:48:41\u001b[0m.\u001b[1;36m833\u001b[0m\u001b[1m]\u001b[0m \u001b[33mCurrent version of Giza CLI: \u001b[0m\u001b[1;33m0.11\u001b[0m\u001b[33m.\u001b[0m\u001b[1;33m0\u001b[0m\n",
            "\u001b[1;33m[\u001b[0m\u001b[33mWARN\u001b[0m\u001b[1;33m]\u001b[0m\u001b[1m[\u001b[0m\u001b[1;36m2024\u001b[0m-\u001b[1;36m02\u001b[0m-\u001b[1;36m25\u001b[0m \u001b[1;92m10:48:41\u001b[0m.\u001b[1;36m835\u001b[0m\u001b[1m]\u001b[0m \u001b[33mA new version \u001b[0m\u001b[1;33m(\u001b[0m\u001b[1;33m0.12\u001b[0m\u001b[33m.\u001b[0m\u001b[1;33m1\u001b[0m\u001b[1;33m)\u001b[0m\u001b[33m is available. Please upgrade 🔔\u001b[0m\n",
            "\u001b[1;33m[\u001b[0m\u001b[33mgiza\u001b[0m\u001b[1;33m]\u001b[0m\u001b[1m[\u001b[0m\u001b[1;36m2024\u001b[0m-\u001b[1;36m02\u001b[0m-\u001b[1;36m25\u001b[0m \u001b[1;92m10:48:41\u001b[0m.\u001b[1;36m837\u001b[0m\u001b[1m]\u001b[0m Creating Workspace ✅ \n",
            "\u001b[1;33m[\u001b[0m\u001b[33mWARN\u001b[0m\u001b[1;33m]\u001b[0m\u001b[1m[\u001b[0m\u001b[1;36m2024\u001b[0m-\u001b[1;36m02\u001b[0m-\u001b[1;36m25\u001b[0m \u001b[1;92m10:48:41\u001b[0m.\u001b[1;36m838\u001b[0m\u001b[1m]\u001b[0m \u001b[33mThis process can take up to \u001b[0m\u001b[1;33m10\u001b[0m\u001b[33m minutes ⏳\u001b[0m\n",
            "\u001b[2K\u001b[1;33m[\u001b[0m\u001b[33mgiza\u001b[0m\u001b[1;33m]\u001b[0m\u001b[1m[\u001b[0m\u001b[1;36m2024\u001b[0m-\u001b[1;36m02\u001b[0m-\u001b[1;36m25\u001b[0m \u001b[1;92m10:53:29\u001b[0m.\u001b[1;36m275\u001b[0m\u001b[1m]\u001b[0m Worksace creation is successful ✅\n",
            "\u001b[?25h\u001b[1;33m[\u001b[0m\u001b[33mgiza\u001b[0m\u001b[1;33m]\u001b[0m\u001b[1m[\u001b[0m\u001b[1;36m2024\u001b[0m-\u001b[1;36m02\u001b[0m-\u001b[1;36m25\u001b[0m \u001b[1;92m10:53:29\u001b[0m.\u001b[1;36m276\u001b[0m\u001b[1m]\u001b[0m ✅ Workspace URL: \u001b[4;94mhttps://actions-server-bilgin-kocak-dblzzhtf5q-ew.a.run.app\u001b[0m ✅\n"
          ]
        }
      ],
      "source": [
        "!giza workspaces get"
      ]
    },
    {
      "cell_type": "code",
      "execution_count": 85,
      "metadata": {
        "colab": {
          "base_uri": "https://localhost:8080/",
          "height": 383
        },
        "id": "uZRaNx006DWY",
        "outputId": "3aa46064-3c81-4061-8b39-3934738a8b90"
      },
      "outputs": [],
      "source": [
        "import torch\n",
        "import torch.nn as nn\n",
        "import torch.optim as optim\n",
        "# import torchvision\n",
        "import numpy as np\n",
        "import logging\n",
        "from scipy.ndimage import zoom\n",
        "from giza_actions.action import action\n",
        "from giza_actions.task import task\n",
        "from torch.utils.data import DataLoader, TensorDataset\n",
        "\n",
        "device = torch.device('cuda' if torch.cuda.is_available() else 'cpu')"
      ]
    },
    {
      "cell_type": "code",
      "execution_count": 86,
      "metadata": {},
      "outputs": [
        {
          "data": {
            "text/html": [
              "<div>\n",
              "<style scoped>\n",
              "    .dataframe tbody tr th:only-of-type {\n",
              "        vertical-align: middle;\n",
              "    }\n",
              "\n",
              "    .dataframe tbody tr th {\n",
              "        vertical-align: top;\n",
              "    }\n",
              "\n",
              "    .dataframe thead th {\n",
              "        text-align: right;\n",
              "    }\n",
              "</style>\n",
              "<table border=\"1\" class=\"dataframe\">\n",
              "  <thead>\n",
              "    <tr style=\"text-align: right;\">\n",
              "      <th></th>\n",
              "      <th>step</th>\n",
              "      <th>customer</th>\n",
              "      <th>age</th>\n",
              "      <th>gender</th>\n",
              "      <th>merchant</th>\n",
              "      <th>category</th>\n",
              "      <th>amount</th>\n",
              "    </tr>\n",
              "  </thead>\n",
              "  <tbody>\n",
              "    <tr>\n",
              "      <th>903303</th>\n",
              "      <td>150</td>\n",
              "      <td>1005</td>\n",
              "      <td>3</td>\n",
              "      <td>1</td>\n",
              "      <td>35</td>\n",
              "      <td>4</td>\n",
              "      <td>318.801009</td>\n",
              "    </tr>\n",
              "    <tr>\n",
              "      <th>721176</th>\n",
              "      <td>63</td>\n",
              "      <td>496</td>\n",
              "      <td>2</td>\n",
              "      <td>1</td>\n",
              "      <td>49</td>\n",
              "      <td>10</td>\n",
              "      <td>607.125045</td>\n",
              "    </tr>\n",
              "    <tr>\n",
              "      <th>680561</th>\n",
              "      <td>82</td>\n",
              "      <td>2421</td>\n",
              "      <td>2</td>\n",
              "      <td>1</td>\n",
              "      <td>21</td>\n",
              "      <td>9</td>\n",
              "      <td>326.437076</td>\n",
              "    </tr>\n",
              "    <tr>\n",
              "      <th>1154749</th>\n",
              "      <td>18</td>\n",
              "      <td>598</td>\n",
              "      <td>4</td>\n",
              "      <td>1</td>\n",
              "      <td>40</td>\n",
              "      <td>13</td>\n",
              "      <td>2086.201087</td>\n",
              "    </tr>\n",
              "    <tr>\n",
              "      <th>752766</th>\n",
              "      <td>55</td>\n",
              "      <td>2809</td>\n",
              "      <td>1</td>\n",
              "      <td>1</td>\n",
              "      <td>42</td>\n",
              "      <td>5</td>\n",
              "      <td>1141.199516</td>\n",
              "    </tr>\n",
              "  </tbody>\n",
              "</table>\n",
              "</div>"
            ],
            "text/plain": [
              "         step  customer  age  gender  merchant  category       amount\n",
              "903303    150      1005    3       1        35         4   318.801009\n",
              "721176     63       496    2       1        49        10   607.125045\n",
              "680561     82      2421    2       1        21         9   326.437076\n",
              "1154749    18       598    4       1        40        13  2086.201087\n",
              "752766     55      2809    1       1        42         5  1141.199516"
            ]
          },
          "execution_count": 86,
          "metadata": {},
          "output_type": "execute_result"
        }
      ],
      "source": [
        "X_train.head()"
      ]
    },
    {
      "cell_type": "code",
      "execution_count": 87,
      "metadata": {},
      "outputs": [],
      "source": [
        "\n",
        "\n",
        "input_size = 7  \n",
        "hidden_size1 = 64\n",
        "hidden_size2 = 32 \n",
        "num_classes = 2\n",
        "num_epochs = 10\n",
        "batch_size = 256\n",
        "learning_rate = 0.001\n",
        "\n",
        "# Define the neural network architecture\n",
        "class FraudClassifier(nn.Module):\n",
        "    def __init__(self, input_features):\n",
        "        super(FraudClassifier, self).__init__()\n",
        "        self.layer1 = nn.Linear(input_features, 64)  # Input to first hidden layer\n",
        "        self.layer2 = nn.Linear(64, 32)              # First to second hidden layer\n",
        "        self.output = nn.Linear(32, 1)               # Second hidden layer to output\n",
        "        \n",
        "        self.relu = nn.ReLU()                        # ReLU activation function\n",
        "        self.sigmoid = nn.Sigmoid()                  # Sigmoid activation function\n",
        "        \n",
        "    def forward(self, x):\n",
        "        x = self.relu(self.layer1(x))\n",
        "        x = self.relu(self.layer2(x))\n",
        "        x = self.sigmoid(self.output(x))\n",
        "        return x\n"
      ]
    },
    {
      "cell_type": "code",
      "execution_count": 88,
      "metadata": {},
      "outputs": [
        {
          "name": "stderr",
          "output_type": "stream",
          "text": [
            "/Users/bilginkocak/opt/anaconda3/envs/giza/lib/python3.11/site-packages/prefect/tasks.py:339: UserWarning: A task named 'Prepare Datasets' and defined at '/Users/bilginkocak/opt/anaconda3/envs/giza/lib/python3.11/site-packages/giza_actions/task.py:1' conflicts with another task. Consider specifying a unique `name` parameter in the task definition:\n",
            "\n",
            " `@task(name='my_unique_name', ...)`\n",
            "  warnings.warn(\n"
          ]
        }
      ],
      "source": [
        "\n",
        "@task(name=f'Prepare Datasets')\n",
        "def prepare_datasets():\n",
        "    print(\"Prepare dataset...\")\n",
        "    x_train = torch.tensor(X_train.values, dtype=torch.float32)\n",
        "    y_train = torch.tensor(Y_train.values, dtype=torch.float32)\n",
        "    x_test = torch.tensor(X_test.values, dtype=torch.float32)\n",
        "    y_test = torch.tensor(Y_test.values, dtype=torch.float32)\n",
        "    print(\"✅ Datasets prepared successfully\")\n",
        "    return x_train, y_train, x_test, y_test\n"
      ]
    },
    {
      "cell_type": "code",
      "execution_count": 89,
      "metadata": {},
      "outputs": [
        {
          "name": "stderr",
          "output_type": "stream",
          "text": [
            "/Users/bilginkocak/opt/anaconda3/envs/giza/lib/python3.11/site-packages/prefect/tasks.py:339: UserWarning: A task named 'Create Loaders' and defined at '/Users/bilginkocak/opt/anaconda3/envs/giza/lib/python3.11/site-packages/giza_actions/task.py:1' conflicts with another task. Consider specifying a unique `name` parameter in the task definition:\n",
            "\n",
            " `@task(name='my_unique_name', ...)`\n",
            "  warnings.warn(\n"
          ]
        }
      ],
      "source": [
        "@task(name=f'Create Loaders')\n",
        "def create_data_loaders(x_train, y_train, x_test, y_test):\n",
        "    print(\"Create loaders...\")\n",
        "    train_dataset = TensorDataset(x_train, y_train)\n",
        "    test_dataset = TensorDataset(x_test, y_test)\n",
        "    train_loader = DataLoader(dataset=train_dataset, batch_size=batch_size, shuffle=True)\n",
        "    test_loader = DataLoader(dataset=test_dataset, batch_size=batch_size, shuffle=False)\n",
        "\n",
        "    print(\"✅ Loaders created successfully\")\n",
        "    return train_loader, test_loader"
      ]
    },
    {
      "cell_type": "code",
      "execution_count": 90,
      "metadata": {},
      "outputs": [
        {
          "name": "stderr",
          "output_type": "stream",
          "text": [
            "/Users/bilginkocak/opt/anaconda3/envs/giza/lib/python3.11/site-packages/prefect/tasks.py:339: UserWarning: A task named 'Train model' and defined at '/Users/bilginkocak/opt/anaconda3/envs/giza/lib/python3.11/site-packages/giza_actions/task.py:1' conflicts with another task. Consider specifying a unique `name` parameter in the task definition:\n",
            "\n",
            " `@task(name='my_unique_name', ...)`\n",
            "  warnings.warn(\n"
          ]
        }
      ],
      "source": [
        "@task(name=f'Train model')\n",
        "def train_model(train_loader):\n",
        "    print(\"Train model...\")\n",
        "    model = FraudClassifier(input_size).to(device)\n",
        "    # criterion = nn.CrossEntropyLoss()\n",
        "    criterion = nn.BCELoss()\n",
        "    optimizer = optim.Adam(model.parameters(), lr=learning_rate)\n",
        "\n",
        "    total_step = len(train_loader)\n",
        "    for epoch in range(num_epochs):\n",
        "        model.train()  # Set model to training mode\n",
        "        running_loss = 0.0\n",
        "        for inputs, labels in train_loader:\n",
        "            optimizer.zero_grad()  # Zero the gradients\n",
        "            outputs = model(inputs)  # Forward pass\n",
        "            loss = criterion(outputs, labels)  # Compute loss\n",
        "            loss.backward()  # Backward pass\n",
        "            optimizer.step()  # Optimize\n",
        "            \n",
        "            running_loss += loss.item()\n",
        "    \n",
        "        print(f\"Epoch {epoch+1}/{num_epochs}, Loss: {running_loss/len(train_loader)}\")\n",
        "    print(\"✅ Model trained successfully\")\n",
        "    return model"
      ]
    },
    {
      "cell_type": "code",
      "execution_count": 91,
      "metadata": {},
      "outputs": [
        {
          "name": "stderr",
          "output_type": "stream",
          "text": [
            "/Users/bilginkocak/opt/anaconda3/envs/giza/lib/python3.11/site-packages/prefect/tasks.py:339: UserWarning: A task named 'Test model' and defined at '/Users/bilginkocak/opt/anaconda3/envs/giza/lib/python3.11/site-packages/giza_actions/task.py:1' conflicts with another task. Consider specifying a unique `name` parameter in the task definition:\n",
            "\n",
            " `@task(name='my_unique_name', ...)`\n",
            "  warnings.warn(\n"
          ]
        }
      ],
      "source": [
        "@task(name=f'Test model')\n",
        "def test_model(model, test_loader):\n",
        "    print(\"Test model...\")\n",
        "    model.eval()\n",
        "    correct = 0\n",
        "    total = 0\n",
        "    with torch.no_grad():  # Inference without calculating gradients\n",
        "        for inputs, labels in test_loader:\n",
        "            outputs = model(inputs)\n",
        "            _, predicted = torch.max(outputs.data, 1)\n",
        "            total += labels.size(0)\n",
        "            correct += (predicted == labels).sum().item()\n",
        "\n",
        "    accuracy = correct / total\n",
        "    print(f'Accuracy on the test set: {accuracy:.2f}')\n",
        "    print(\"✅ Model tested successfully\")\n",
        "    return accuracy"
      ]
    },
    {
      "cell_type": "code",
      "execution_count": 46,
      "metadata": {},
      "outputs": [
        {
          "name": "stderr",
          "output_type": "stream",
          "text": [
            "/Users/bilginkocak/opt/anaconda3/envs/giza/lib/python3.11/site-packages/prefect/flows.py:337: UserWarning: A flow named 'Execution' and defined at '/Users/bilginkocak/opt/anaconda3/envs/giza/lib/python3.11/site-packages/giza_actions/action.py:1' conflicts with another flow. Consider specifying a unique `name` parameter in the flow definition:\n",
            "\n",
            " `@flow(name='my_unique_name', ...)`\n",
            "  warnings.warn(\n"
          ]
        },
        {
          "data": {
            "text/html": [
              "<pre style=\"white-space:pre;overflow-x:auto;line-height:normal;font-family:Menlo,'DejaVu Sans Mono',consolas,'Courier New',monospace\">18:59:21.435 | <span style=\"color: #008080; text-decoration-color: #008080\">INFO</span>    | prefect.engine - Created flow run<span style=\"color: #800080; text-decoration-color: #800080\"> 'knowing-malamute'</span> for flow<span style=\"color: #800080; text-decoration-color: #800080; font-weight: bold\"> 'Execution'</span>\n",
              "</pre>\n"
            ],
            "text/plain": [
              "18:59:21.435 | \u001b[36mINFO\u001b[0m    | prefect.engine - Created flow run\u001b[35m 'knowing-malamute'\u001b[0m for flow\u001b[1;35m 'Execution'\u001b[0m\n"
            ]
          },
          "metadata": {},
          "output_type": "display_data"
        },
        {
          "data": {
            "text/html": [
              "<pre style=\"white-space:pre;overflow-x:auto;line-height:normal;font-family:Menlo,'DejaVu Sans Mono',consolas,'Courier New',monospace\">18:59:21.439 | <span style=\"color: #008080; text-decoration-color: #008080\">INFO</span>    | Flow run<span style=\"color: #800080; text-decoration-color: #800080\"> 'knowing-malamute'</span> - View at <span style=\"color: #0000ff; text-decoration-color: #0000ff\">https://actions-server-bilgin-kocak-dblzzhtf5q-ew.a.run.app/flow-runs/flow-run/a788a830-f89b-4a52-b442-934a01980dda</span>\n",
              "</pre>\n"
            ],
            "text/plain": [
              "18:59:21.439 | \u001b[36mINFO\u001b[0m    | Flow run\u001b[35m 'knowing-malamute'\u001b[0m - View at \u001b[94mhttps://actions-server-bilgin-kocak-dblzzhtf5q-ew.a.run.app/flow-runs/flow-run/a788a830-f89b-4a52-b442-934a01980dda\u001b[0m\n"
            ]
          },
          "metadata": {},
          "output_type": "display_data"
        },
        {
          "data": {
            "text/html": [
              "<pre style=\"white-space:pre;overflow-x:auto;line-height:normal;font-family:Menlo,'DejaVu Sans Mono',consolas,'Courier New',monospace\">18:59:21.746 | <span style=\"color: #008080; text-decoration-color: #008080\">INFO</span>    | Flow run<span style=\"color: #800080; text-decoration-color: #800080\"> 'knowing-malamute'</span> - Created task run 'Prepare Datasets-0' for task 'Prepare Datasets'\n",
              "</pre>\n"
            ],
            "text/plain": [
              "18:59:21.746 | \u001b[36mINFO\u001b[0m    | Flow run\u001b[35m 'knowing-malamute'\u001b[0m - Created task run 'Prepare Datasets-0' for task 'Prepare Datasets'\n"
            ]
          },
          "metadata": {},
          "output_type": "display_data"
        },
        {
          "data": {
            "text/html": [
              "<pre style=\"white-space:pre;overflow-x:auto;line-height:normal;font-family:Menlo,'DejaVu Sans Mono',consolas,'Courier New',monospace\">18:59:21.751 | <span style=\"color: #008080; text-decoration-color: #008080\">INFO</span>    | Flow run<span style=\"color: #800080; text-decoration-color: #800080\"> 'knowing-malamute'</span> - Executing 'Prepare Datasets-0' immediately...\n",
              "</pre>\n"
            ],
            "text/plain": [
              "18:59:21.751 | \u001b[36mINFO\u001b[0m    | Flow run\u001b[35m 'knowing-malamute'\u001b[0m - Executing 'Prepare Datasets-0' immediately...\n"
            ]
          },
          "metadata": {},
          "output_type": "display_data"
        },
        {
          "data": {
            "text/html": [
              "<pre style=\"white-space:pre;overflow-x:auto;line-height:normal;font-family:Menlo,'DejaVu Sans Mono',consolas,'Courier New',monospace\">18:59:22.013 | <span style=\"color: #008080; text-decoration-color: #008080\">INFO</span>    | Task run 'Prepare Datasets-0' - Prepare dataset...\n",
              "</pre>\n"
            ],
            "text/plain": [
              "18:59:22.013 | \u001b[36mINFO\u001b[0m    | Task run 'Prepare Datasets-0' - Prepare dataset...\n"
            ]
          },
          "metadata": {},
          "output_type": "display_data"
        },
        {
          "data": {
            "text/html": [
              "<pre style=\"white-space:pre;overflow-x:auto;line-height:normal;font-family:Menlo,'DejaVu Sans Mono',consolas,'Courier New',monospace\">18:59:22.141 | <span style=\"color: #008080; text-decoration-color: #008080\">INFO</span>    | Task run 'Prepare Datasets-0' - ✅ Datasets prepared successfully\n",
              "</pre>\n"
            ],
            "text/plain": [
              "18:59:22.141 | \u001b[36mINFO\u001b[0m    | Task run 'Prepare Datasets-0' - ✅ Datasets prepared successfully\n"
            ]
          },
          "metadata": {},
          "output_type": "display_data"
        },
        {
          "data": {
            "text/html": [
              "<pre style=\"white-space:pre;overflow-x:auto;line-height:normal;font-family:Menlo,'DejaVu Sans Mono',consolas,'Courier New',monospace\">18:59:22.261 | <span style=\"color: #008080; text-decoration-color: #008080\">INFO</span>    | Task run 'Prepare Datasets-0' - Finished in state <span style=\"color: #008000; text-decoration-color: #008000\">Completed</span>()\n",
              "</pre>\n"
            ],
            "text/plain": [
              "18:59:22.261 | \u001b[36mINFO\u001b[0m    | Task run 'Prepare Datasets-0' - Finished in state \u001b[32mCompleted\u001b[0m()\n"
            ]
          },
          "metadata": {},
          "output_type": "display_data"
        },
        {
          "data": {
            "text/html": [
              "<pre style=\"white-space:pre;overflow-x:auto;line-height:normal;font-family:Menlo,'DejaVu Sans Mono',consolas,'Courier New',monospace\">18:59:22.382 | <span style=\"color: #008080; text-decoration-color: #008080\">INFO</span>    | Flow run<span style=\"color: #800080; text-decoration-color: #800080\"> 'knowing-malamute'</span> - Created task run 'Create Loaders-0' for task 'Create Loaders'\n",
              "</pre>\n"
            ],
            "text/plain": [
              "18:59:22.382 | \u001b[36mINFO\u001b[0m    | Flow run\u001b[35m 'knowing-malamute'\u001b[0m - Created task run 'Create Loaders-0' for task 'Create Loaders'\n"
            ]
          },
          "metadata": {},
          "output_type": "display_data"
        },
        {
          "data": {
            "text/html": [
              "<pre style=\"white-space:pre;overflow-x:auto;line-height:normal;font-family:Menlo,'DejaVu Sans Mono',consolas,'Courier New',monospace\">18:59:22.385 | <span style=\"color: #008080; text-decoration-color: #008080\">INFO</span>    | Flow run<span style=\"color: #800080; text-decoration-color: #800080\"> 'knowing-malamute'</span> - Executing 'Create Loaders-0' immediately...\n",
              "</pre>\n"
            ],
            "text/plain": [
              "18:59:22.385 | \u001b[36mINFO\u001b[0m    | Flow run\u001b[35m 'knowing-malamute'\u001b[0m - Executing 'Create Loaders-0' immediately...\n"
            ]
          },
          "metadata": {},
          "output_type": "display_data"
        },
        {
          "data": {
            "text/html": [
              "<pre style=\"white-space:pre;overflow-x:auto;line-height:normal;font-family:Menlo,'DejaVu Sans Mono',consolas,'Courier New',monospace\">18:59:22.666 | <span style=\"color: #008080; text-decoration-color: #008080\">INFO</span>    | Task run 'Create Loaders-0' - Create loaders...\n",
              "</pre>\n"
            ],
            "text/plain": [
              "18:59:22.666 | \u001b[36mINFO\u001b[0m    | Task run 'Create Loaders-0' - Create loaders...\n"
            ]
          },
          "metadata": {},
          "output_type": "display_data"
        },
        {
          "data": {
            "text/html": [
              "<pre style=\"white-space:pre;overflow-x:auto;line-height:normal;font-family:Menlo,'DejaVu Sans Mono',consolas,'Courier New',monospace\">18:59:22.675 | <span style=\"color: #008080; text-decoration-color: #008080\">INFO</span>    | Task run 'Create Loaders-0' - ✅ Loaders created successfully\n",
              "</pre>\n"
            ],
            "text/plain": [
              "18:59:22.675 | \u001b[36mINFO\u001b[0m    | Task run 'Create Loaders-0' - ✅ Loaders created successfully\n"
            ]
          },
          "metadata": {},
          "output_type": "display_data"
        },
        {
          "data": {
            "text/html": [
              "<pre style=\"white-space:pre;overflow-x:auto;line-height:normal;font-family:Menlo,'DejaVu Sans Mono',consolas,'Courier New',monospace\">18:59:22.801 | <span style=\"color: #008080; text-decoration-color: #008080\">INFO</span>    | Task run 'Create Loaders-0' - Finished in state <span style=\"color: #008000; text-decoration-color: #008000\">Completed</span>()\n",
              "</pre>\n"
            ],
            "text/plain": [
              "18:59:22.801 | \u001b[36mINFO\u001b[0m    | Task run 'Create Loaders-0' - Finished in state \u001b[32mCompleted\u001b[0m()\n"
            ]
          },
          "metadata": {},
          "output_type": "display_data"
        },
        {
          "data": {
            "text/html": [
              "<pre style=\"white-space:pre;overflow-x:auto;line-height:normal;font-family:Menlo,'DejaVu Sans Mono',consolas,'Courier New',monospace\">18:59:22.918 | <span style=\"color: #008080; text-decoration-color: #008080\">INFO</span>    | Flow run<span style=\"color: #800080; text-decoration-color: #800080\"> 'knowing-malamute'</span> - Created task run 'Train model-0' for task 'Train model'\n",
              "</pre>\n"
            ],
            "text/plain": [
              "18:59:22.918 | \u001b[36mINFO\u001b[0m    | Flow run\u001b[35m 'knowing-malamute'\u001b[0m - Created task run 'Train model-0' for task 'Train model'\n"
            ]
          },
          "metadata": {},
          "output_type": "display_data"
        },
        {
          "data": {
            "text/html": [
              "<pre style=\"white-space:pre;overflow-x:auto;line-height:normal;font-family:Menlo,'DejaVu Sans Mono',consolas,'Courier New',monospace\">18:59:22.922 | <span style=\"color: #008080; text-decoration-color: #008080\">INFO</span>    | Flow run<span style=\"color: #800080; text-decoration-color: #800080\"> 'knowing-malamute'</span> - Executing 'Train model-0' immediately...\n",
              "</pre>\n"
            ],
            "text/plain": [
              "18:59:22.922 | \u001b[36mINFO\u001b[0m    | Flow run\u001b[35m 'knowing-malamute'\u001b[0m - Executing 'Train model-0' immediately...\n"
            ]
          },
          "metadata": {},
          "output_type": "display_data"
        },
        {
          "data": {
            "text/html": [
              "<pre style=\"white-space:pre;overflow-x:auto;line-height:normal;font-family:Menlo,'DejaVu Sans Mono',consolas,'Courier New',monospace\">18:59:23.145 | <span style=\"color: #008080; text-decoration-color: #008080\">INFO</span>    | Task run 'Train model-0' - Train model...\n",
              "</pre>\n"
            ],
            "text/plain": [
              "18:59:23.145 | \u001b[36mINFO\u001b[0m    | Task run 'Train model-0' - Train model...\n"
            ]
          },
          "metadata": {},
          "output_type": "display_data"
        },
        {
          "data": {
            "text/html": [
              "<pre style=\"white-space:pre;overflow-x:auto;line-height:normal;font-family:Menlo,'DejaVu Sans Mono',consolas,'Courier New',monospace\">18:59:25.708 | <span style=\"color: #008080; text-decoration-color: #008080\">INFO</span>    | Task run 'Train model-0' - 0D or 1D target tensor expected, multi-target not supported\n",
              "</pre>\n"
            ],
            "text/plain": [
              "18:59:25.708 | \u001b[36mINFO\u001b[0m    | Task run 'Train model-0' - 0D or 1D target tensor expected, multi-target not supported\n"
            ]
          },
          "metadata": {},
          "output_type": "display_data"
        },
        {
          "data": {
            "text/html": [
              "<pre style=\"white-space:pre;overflow-x:auto;line-height:normal;font-family:Menlo,'DejaVu Sans Mono',consolas,'Courier New',monospace\">18:59:25.843 | <span style=\"color: #008080; text-decoration-color: #008080\">INFO</span>    | Task run 'Train model-0' - Finished in state <span style=\"color: #008000; text-decoration-color: #008000\">Completed</span>()\n",
              "</pre>\n"
            ],
            "text/plain": [
              "18:59:25.843 | \u001b[36mINFO\u001b[0m    | Task run 'Train model-0' - Finished in state \u001b[32mCompleted\u001b[0m()\n"
            ]
          },
          "metadata": {},
          "output_type": "display_data"
        },
        {
          "data": {
            "text/html": [
              "<pre style=\"white-space:pre;overflow-x:auto;line-height:normal;font-family:Menlo,'DejaVu Sans Mono',consolas,'Courier New',monospace\">18:59:25.957 | <span style=\"color: #008080; text-decoration-color: #008080\">INFO</span>    | Flow run<span style=\"color: #800080; text-decoration-color: #800080\"> 'knowing-malamute'</span> - Created task run 'Test model-0' for task 'Test model'\n",
              "</pre>\n"
            ],
            "text/plain": [
              "18:59:25.957 | \u001b[36mINFO\u001b[0m    | Flow run\u001b[35m 'knowing-malamute'\u001b[0m - Created task run 'Test model-0' for task 'Test model'\n"
            ]
          },
          "metadata": {},
          "output_type": "display_data"
        },
        {
          "data": {
            "text/html": [
              "<pre style=\"white-space:pre;overflow-x:auto;line-height:normal;font-family:Menlo,'DejaVu Sans Mono',consolas,'Courier New',monospace\">18:59:25.959 | <span style=\"color: #008080; text-decoration-color: #008080\">INFO</span>    | Flow run<span style=\"color: #800080; text-decoration-color: #800080\"> 'knowing-malamute'</span> - Executing 'Test model-0' immediately...\n",
              "</pre>\n"
            ],
            "text/plain": [
              "18:59:25.959 | \u001b[36mINFO\u001b[0m    | Flow run\u001b[35m 'knowing-malamute'\u001b[0m - Executing 'Test model-0' immediately...\n"
            ]
          },
          "metadata": {},
          "output_type": "display_data"
        },
        {
          "data": {
            "text/html": [
              "<pre style=\"white-space:pre;overflow-x:auto;line-height:normal;font-family:Menlo,'DejaVu Sans Mono',consolas,'Courier New',monospace\">18:59:26.170 | <span style=\"color: #008080; text-decoration-color: #008080\">INFO</span>    | Task run 'Test model-0' - Test model...\n",
              "</pre>\n"
            ],
            "text/plain": [
              "18:59:26.170 | \u001b[36mINFO\u001b[0m    | Task run 'Test model-0' - Test model...\n"
            ]
          },
          "metadata": {},
          "output_type": "display_data"
        },
        {
          "data": {
            "text/html": [
              "<pre style=\"white-space:pre;overflow-x:auto;line-height:normal;font-family:Menlo,'DejaVu Sans Mono',consolas,'Courier New',monospace\">18:59:26.175 | <span style=\"color: #008080; text-decoration-color: #008080\">INFO</span>    | Task run 'Test model-0' - 'NoneType' object has no attribute 'eval'\n",
              "</pre>\n"
            ],
            "text/plain": [
              "18:59:26.175 | \u001b[36mINFO\u001b[0m    | Task run 'Test model-0' - 'NoneType' object has no attribute 'eval'\n"
            ]
          },
          "metadata": {},
          "output_type": "display_data"
        },
        {
          "data": {
            "text/html": [
              "<pre style=\"white-space:pre;overflow-x:auto;line-height:normal;font-family:Menlo,'DejaVu Sans Mono',consolas,'Courier New',monospace\">18:59:26.302 | <span style=\"color: #008080; text-decoration-color: #008080\">INFO</span>    | Task run 'Test model-0' - Finished in state <span style=\"color: #008000; text-decoration-color: #008000\">Completed</span>()\n",
              "</pre>\n"
            ],
            "text/plain": [
              "18:59:26.302 | \u001b[36mINFO\u001b[0m    | Task run 'Test model-0' - Finished in state \u001b[32mCompleted\u001b[0m()\n"
            ]
          },
          "metadata": {},
          "output_type": "display_data"
        },
        {
          "data": {
            "text/html": [
              "<pre style=\"white-space:pre;overflow-x:auto;line-height:normal;font-family:Menlo,'DejaVu Sans Mono',consolas,'Courier New',monospace\">18:59:26.430 | <span style=\"color: #008080; text-decoration-color: #008080\">INFO</span>    | Flow run<span style=\"color: #800080; text-decoration-color: #800080\"> 'knowing-malamute'</span> - Finished in state <span style=\"color: #008000; text-decoration-color: #008000\">Completed</span>('All states completed.')\n",
              "</pre>\n"
            ],
            "text/plain": [
              "18:59:26.430 | \u001b[36mINFO\u001b[0m    | Flow run\u001b[35m 'knowing-malamute'\u001b[0m - Finished in state \u001b[32mCompleted\u001b[0m('All states completed.')\n"
            ]
          },
          "metadata": {},
          "output_type": "display_data"
        },
        {
          "data": {
            "text/plain": [
              "[Completed(message=None, type=COMPLETED, result=UnpersistedResult(type='unpersisted', artifact_type='result', artifact_description='Unpersisted result of type `tuple`')),\n",
              " Completed(message=None, type=COMPLETED, result=UnpersistedResult(type='unpersisted', artifact_type='result', artifact_description='Unpersisted result of type `tuple`')),\n",
              " Completed(message=None, type=COMPLETED, result=UnpersistedResult(type='unpersisted', artifact_type='result', artifact_description='Unpersisted result of type `NoneType`')),\n",
              " Completed(message=None, type=COMPLETED, result=UnpersistedResult(type='unpersisted', artifact_type='result', artifact_description='Unpersisted result of type `NoneType`'))]"
            ]
          },
          "execution_count": 46,
          "metadata": {},
          "output_type": "execute_result"
        }
      ],
      "source": [
        "@action(name=f'Execution', log_prints=True )\n",
        "def execution():\n",
        "    x_train, y_train, x_test, y_test = prepare_datasets()\n",
        "    train_loader, test_loader = create_data_loaders(\n",
        "        x_train, y_train, x_test, y_test)\n",
        "    model = train_model(train_loader)\n",
        "    test_model(model, test_loader)\n",
        "\n",
        "execution()"
      ]
    },
    {
      "cell_type": "code",
      "execution_count": 92,
      "metadata": {},
      "outputs": [
        {
          "name": "stderr",
          "output_type": "stream",
          "text": [
            "/Users/bilginkocak/opt/anaconda3/envs/giza/lib/python3.11/site-packages/prefect/tasks.py:339: UserWarning: A task named 'Convert To ONNX' and defined at '/Users/bilginkocak/opt/anaconda3/envs/giza/lib/python3.11/site-packages/giza_actions/task.py:3' conflicts with another task. Consider specifying a unique `name` parameter in the task definition:\n",
            "\n",
            " `@task(name='my_unique_name', ...)`\n",
            "  warnings.warn(\n",
            "/Users/bilginkocak/opt/anaconda3/envs/giza/lib/python3.11/site-packages/prefect/flows.py:337: UserWarning: A flow named 'Action: Convert To ONNX' and defined at '/Users/bilginkocak/opt/anaconda3/envs/giza/lib/python3.11/site-packages/giza_actions/action.py:12' conflicts with another flow. Consider specifying a unique `name` parameter in the flow definition:\n",
            "\n",
            " `@flow(name='my_unique_name', ...)`\n",
            "  warnings.warn(\n"
          ]
        },
        {
          "data": {
            "text/html": [
              "<pre style=\"white-space:pre;overflow-x:auto;line-height:normal;font-family:Menlo,'DejaVu Sans Mono',consolas,'Courier New',monospace\">19:37:27.993 | <span style=\"color: #008080; text-decoration-color: #008080\">INFO</span>    | prefect.engine - Created flow run<span style=\"color: #800080; text-decoration-color: #800080\"> 'dynamic-rook'</span> for flow<span style=\"color: #800080; text-decoration-color: #800080; font-weight: bold\"> 'Action: Convert To ONNX'</span>\n",
              "</pre>\n"
            ],
            "text/plain": [
              "19:37:27.993 | \u001b[36mINFO\u001b[0m    | prefect.engine - Created flow run\u001b[35m 'dynamic-rook'\u001b[0m for flow\u001b[1;35m 'Action: Convert To ONNX'\u001b[0m\n"
            ]
          },
          "metadata": {},
          "output_type": "display_data"
        },
        {
          "data": {
            "text/html": [
              "<pre style=\"white-space:pre;overflow-x:auto;line-height:normal;font-family:Menlo,'DejaVu Sans Mono',consolas,'Courier New',monospace\">19:37:27.996 | <span style=\"color: #008080; text-decoration-color: #008080\">INFO</span>    | Flow run<span style=\"color: #800080; text-decoration-color: #800080\"> 'dynamic-rook'</span> - View at <span style=\"color: #0000ff; text-decoration-color: #0000ff\">https://actions-server-bilgin-kocak-dblzzhtf5q-ew.a.run.app/flow-runs/flow-run/5d23e865-c67b-4867-95ee-0f9e15bda1bc</span>\n",
              "</pre>\n"
            ],
            "text/plain": [
              "19:37:27.996 | \u001b[36mINFO\u001b[0m    | Flow run\u001b[35m 'dynamic-rook'\u001b[0m - View at \u001b[94mhttps://actions-server-bilgin-kocak-dblzzhtf5q-ew.a.run.app/flow-runs/flow-run/5d23e865-c67b-4867-95ee-0f9e15bda1bc\u001b[0m\n"
            ]
          },
          "metadata": {},
          "output_type": "display_data"
        },
        {
          "data": {
            "text/html": [
              "<pre style=\"white-space:pre;overflow-x:auto;line-height:normal;font-family:Menlo,'DejaVu Sans Mono',consolas,'Courier New',monospace\">19:37:28.311 | <span style=\"color: #008080; text-decoration-color: #008080\">INFO</span>    | Flow run<span style=\"color: #800080; text-decoration-color: #800080\"> 'dynamic-rook'</span> - Created task run 'Prepare Datasets-0' for task 'Prepare Datasets'\n",
              "</pre>\n"
            ],
            "text/plain": [
              "19:37:28.311 | \u001b[36mINFO\u001b[0m    | Flow run\u001b[35m 'dynamic-rook'\u001b[0m - Created task run 'Prepare Datasets-0' for task 'Prepare Datasets'\n"
            ]
          },
          "metadata": {},
          "output_type": "display_data"
        },
        {
          "data": {
            "text/html": [
              "<pre style=\"white-space:pre;overflow-x:auto;line-height:normal;font-family:Menlo,'DejaVu Sans Mono',consolas,'Courier New',monospace\">19:37:28.316 | <span style=\"color: #008080; text-decoration-color: #008080\">INFO</span>    | Flow run<span style=\"color: #800080; text-decoration-color: #800080\"> 'dynamic-rook'</span> - Executing 'Prepare Datasets-0' immediately...\n",
              "</pre>\n"
            ],
            "text/plain": [
              "19:37:28.316 | \u001b[36mINFO\u001b[0m    | Flow run\u001b[35m 'dynamic-rook'\u001b[0m - Executing 'Prepare Datasets-0' immediately...\n"
            ]
          },
          "metadata": {},
          "output_type": "display_data"
        },
        {
          "data": {
            "text/html": [
              "<pre style=\"white-space:pre;overflow-x:auto;line-height:normal;font-family:Menlo,'DejaVu Sans Mono',consolas,'Courier New',monospace\">19:37:28.589 | <span style=\"color: #008080; text-decoration-color: #008080\">INFO</span>    | Task run 'Prepare Datasets-0' - Prepare dataset...\n",
              "</pre>\n"
            ],
            "text/plain": [
              "19:37:28.589 | \u001b[36mINFO\u001b[0m    | Task run 'Prepare Datasets-0' - Prepare dataset...\n"
            ]
          },
          "metadata": {},
          "output_type": "display_data"
        },
        {
          "data": {
            "text/html": [
              "<pre style=\"white-space:pre;overflow-x:auto;line-height:normal;font-family:Menlo,'DejaVu Sans Mono',consolas,'Courier New',monospace\">19:37:28.662 | <span style=\"color: #008080; text-decoration-color: #008080\">INFO</span>    | Task run 'Prepare Datasets-0' - ✅ Datasets prepared successfully\n",
              "</pre>\n"
            ],
            "text/plain": [
              "19:37:28.662 | \u001b[36mINFO\u001b[0m    | Task run 'Prepare Datasets-0' - ✅ Datasets prepared successfully\n"
            ]
          },
          "metadata": {},
          "output_type": "display_data"
        },
        {
          "data": {
            "text/html": [
              "<pre style=\"white-space:pre;overflow-x:auto;line-height:normal;font-family:Menlo,'DejaVu Sans Mono',consolas,'Courier New',monospace\">19:37:28.779 | <span style=\"color: #008080; text-decoration-color: #008080\">INFO</span>    | Task run 'Prepare Datasets-0' - Finished in state <span style=\"color: #008000; text-decoration-color: #008000\">Completed</span>()\n",
              "</pre>\n"
            ],
            "text/plain": [
              "19:37:28.779 | \u001b[36mINFO\u001b[0m    | Task run 'Prepare Datasets-0' - Finished in state \u001b[32mCompleted\u001b[0m()\n"
            ]
          },
          "metadata": {},
          "output_type": "display_data"
        },
        {
          "data": {
            "text/html": [
              "<pre style=\"white-space:pre;overflow-x:auto;line-height:normal;font-family:Menlo,'DejaVu Sans Mono',consolas,'Courier New',monospace\">19:37:28.903 | <span style=\"color: #008080; text-decoration-color: #008080\">INFO</span>    | Flow run<span style=\"color: #800080; text-decoration-color: #800080\"> 'dynamic-rook'</span> - Created task run 'Create Loaders-0' for task 'Create Loaders'\n",
              "</pre>\n"
            ],
            "text/plain": [
              "19:37:28.903 | \u001b[36mINFO\u001b[0m    | Flow run\u001b[35m 'dynamic-rook'\u001b[0m - Created task run 'Create Loaders-0' for task 'Create Loaders'\n"
            ]
          },
          "metadata": {},
          "output_type": "display_data"
        },
        {
          "data": {
            "text/html": [
              "<pre style=\"white-space:pre;overflow-x:auto;line-height:normal;font-family:Menlo,'DejaVu Sans Mono',consolas,'Courier New',monospace\">19:37:28.906 | <span style=\"color: #008080; text-decoration-color: #008080\">INFO</span>    | Flow run<span style=\"color: #800080; text-decoration-color: #800080\"> 'dynamic-rook'</span> - Executing 'Create Loaders-0' immediately...\n",
              "</pre>\n"
            ],
            "text/plain": [
              "19:37:28.906 | \u001b[36mINFO\u001b[0m    | Flow run\u001b[35m 'dynamic-rook'\u001b[0m - Executing 'Create Loaders-0' immediately...\n"
            ]
          },
          "metadata": {},
          "output_type": "display_data"
        },
        {
          "data": {
            "text/html": [
              "<pre style=\"white-space:pre;overflow-x:auto;line-height:normal;font-family:Menlo,'DejaVu Sans Mono',consolas,'Courier New',monospace\">19:37:29.126 | <span style=\"color: #008080; text-decoration-color: #008080\">INFO</span>    | Task run 'Create Loaders-0' - Create loaders...\n",
              "</pre>\n"
            ],
            "text/plain": [
              "19:37:29.126 | \u001b[36mINFO\u001b[0m    | Task run 'Create Loaders-0' - Create loaders...\n"
            ]
          },
          "metadata": {},
          "output_type": "display_data"
        },
        {
          "data": {
            "text/html": [
              "<pre style=\"white-space:pre;overflow-x:auto;line-height:normal;font-family:Menlo,'DejaVu Sans Mono',consolas,'Courier New',monospace\">19:37:29.128 | <span style=\"color: #008080; text-decoration-color: #008080\">INFO</span>    | Task run 'Create Loaders-0' - ✅ Loaders created successfully\n",
              "</pre>\n"
            ],
            "text/plain": [
              "19:37:29.128 | \u001b[36mINFO\u001b[0m    | Task run 'Create Loaders-0' - ✅ Loaders created successfully\n"
            ]
          },
          "metadata": {},
          "output_type": "display_data"
        },
        {
          "data": {
            "text/html": [
              "<pre style=\"white-space:pre;overflow-x:auto;line-height:normal;font-family:Menlo,'DejaVu Sans Mono',consolas,'Courier New',monospace\">19:37:29.279 | <span style=\"color: #008080; text-decoration-color: #008080\">INFO</span>    | Task run 'Create Loaders-0' - Finished in state <span style=\"color: #008000; text-decoration-color: #008000\">Completed</span>()\n",
              "</pre>\n"
            ],
            "text/plain": [
              "19:37:29.279 | \u001b[36mINFO\u001b[0m    | Task run 'Create Loaders-0' - Finished in state \u001b[32mCompleted\u001b[0m()\n"
            ]
          },
          "metadata": {},
          "output_type": "display_data"
        },
        {
          "data": {
            "text/html": [
              "<pre style=\"white-space:pre;overflow-x:auto;line-height:normal;font-family:Menlo,'DejaVu Sans Mono',consolas,'Courier New',monospace\">19:37:29.386 | <span style=\"color: #008080; text-decoration-color: #008080\">INFO</span>    | Flow run<span style=\"color: #800080; text-decoration-color: #800080\"> 'dynamic-rook'</span> - Created task run 'Train model-0' for task 'Train model'\n",
              "</pre>\n"
            ],
            "text/plain": [
              "19:37:29.386 | \u001b[36mINFO\u001b[0m    | Flow run\u001b[35m 'dynamic-rook'\u001b[0m - Created task run 'Train model-0' for task 'Train model'\n"
            ]
          },
          "metadata": {},
          "output_type": "display_data"
        },
        {
          "data": {
            "text/html": [
              "<pre style=\"white-space:pre;overflow-x:auto;line-height:normal;font-family:Menlo,'DejaVu Sans Mono',consolas,'Courier New',monospace\">19:37:29.387 | <span style=\"color: #008080; text-decoration-color: #008080\">INFO</span>    | Flow run<span style=\"color: #800080; text-decoration-color: #800080\"> 'dynamic-rook'</span> - Executing 'Train model-0' immediately...\n",
              "</pre>\n"
            ],
            "text/plain": [
              "19:37:29.387 | \u001b[36mINFO\u001b[0m    | Flow run\u001b[35m 'dynamic-rook'\u001b[0m - Executing 'Train model-0' immediately...\n"
            ]
          },
          "metadata": {},
          "output_type": "display_data"
        },
        {
          "data": {
            "text/html": [
              "<pre style=\"white-space:pre;overflow-x:auto;line-height:normal;font-family:Menlo,'DejaVu Sans Mono',consolas,'Courier New',monospace\">19:37:29.604 | <span style=\"color: #008080; text-decoration-color: #008080\">INFO</span>    | Task run 'Train model-0' - Train model...\n",
              "</pre>\n"
            ],
            "text/plain": [
              "19:37:29.604 | \u001b[36mINFO\u001b[0m    | Task run 'Train model-0' - Train model...\n"
            ]
          },
          "metadata": {},
          "output_type": "display_data"
        },
        {
          "data": {
            "text/html": [
              "<pre style=\"white-space:pre;overflow-x:auto;line-height:normal;font-family:Menlo,'DejaVu Sans Mono',consolas,'Courier New',monospace\">19:37:37.071 | <span style=\"color: #008080; text-decoration-color: #008080\">INFO</span>    | Task run 'Train model-0' - Epoch 1/10, Loss: 0.2571542831737788\n",
              "</pre>\n"
            ],
            "text/plain": [
              "19:37:37.071 | \u001b[36mINFO\u001b[0m    | Task run 'Train model-0' - Epoch 1/10, Loss: 0.2571542831737788\n"
            ]
          },
          "metadata": {},
          "output_type": "display_data"
        },
        {
          "data": {
            "text/html": [
              "<pre style=\"white-space:pre;overflow-x:auto;line-height:normal;font-family:Menlo,'DejaVu Sans Mono',consolas,'Courier New',monospace\">19:37:44.771 | <span style=\"color: #008080; text-decoration-color: #008080\">INFO</span>    | Task run 'Train model-0' - Epoch 2/10, Loss: 0.20945923428065377\n",
              "</pre>\n"
            ],
            "text/plain": [
              "19:37:44.771 | \u001b[36mINFO\u001b[0m    | Task run 'Train model-0' - Epoch 2/10, Loss: 0.20945923428065377\n"
            ]
          },
          "metadata": {},
          "output_type": "display_data"
        },
        {
          "data": {
            "text/html": [
              "<pre style=\"white-space:pre;overflow-x:auto;line-height:normal;font-family:Menlo,'DejaVu Sans Mono',consolas,'Courier New',monospace\">19:37:52.448 | <span style=\"color: #008080; text-decoration-color: #008080\">INFO</span>    | Task run 'Train model-0' - Epoch 3/10, Loss: 0.1885135024345407\n",
              "</pre>\n"
            ],
            "text/plain": [
              "19:37:52.448 | \u001b[36mINFO\u001b[0m    | Task run 'Train model-0' - Epoch 3/10, Loss: 0.1885135024345407\n"
            ]
          },
          "metadata": {},
          "output_type": "display_data"
        },
        {
          "data": {
            "text/html": [
              "<pre style=\"white-space:pre;overflow-x:auto;line-height:normal;font-family:Menlo,'DejaVu Sans Mono',consolas,'Courier New',monospace\">19:38:00.034 | <span style=\"color: #008080; text-decoration-color: #008080\">INFO</span>    | Task run 'Train model-0' - Epoch 4/10, Loss: 0.17060851111400546\n",
              "</pre>\n"
            ],
            "text/plain": [
              "19:38:00.034 | \u001b[36mINFO\u001b[0m    | Task run 'Train model-0' - Epoch 4/10, Loss: 0.17060851111400546\n"
            ]
          },
          "metadata": {},
          "output_type": "display_data"
        },
        {
          "data": {
            "text/html": [
              "<pre style=\"white-space:pre;overflow-x:auto;line-height:normal;font-family:Menlo,'DejaVu Sans Mono',consolas,'Courier New',monospace\">19:38:07.440 | <span style=\"color: #008080; text-decoration-color: #008080\">INFO</span>    | Task run 'Train model-0' - Epoch 5/10, Loss: 0.14693891301570264\n",
              "</pre>\n"
            ],
            "text/plain": [
              "19:38:07.440 | \u001b[36mINFO\u001b[0m    | Task run 'Train model-0' - Epoch 5/10, Loss: 0.14693891301570264\n"
            ]
          },
          "metadata": {},
          "output_type": "display_data"
        },
        {
          "data": {
            "text/html": [
              "<pre style=\"white-space:pre;overflow-x:auto;line-height:normal;font-family:Menlo,'DejaVu Sans Mono',consolas,'Courier New',monospace\">19:38:15.363 | <span style=\"color: #008080; text-decoration-color: #008080\">INFO</span>    | Task run 'Train model-0' - Epoch 6/10, Loss: 0.1349225232230979\n",
              "</pre>\n"
            ],
            "text/plain": [
              "19:38:15.363 | \u001b[36mINFO\u001b[0m    | Task run 'Train model-0' - Epoch 6/10, Loss: 0.1349225232230979\n"
            ]
          },
          "metadata": {},
          "output_type": "display_data"
        },
        {
          "data": {
            "text/html": [
              "<pre style=\"white-space:pre;overflow-x:auto;line-height:normal;font-family:Menlo,'DejaVu Sans Mono',consolas,'Courier New',monospace\">19:38:22.991 | <span style=\"color: #008080; text-decoration-color: #008080\">INFO</span>    | Task run 'Train model-0' - Epoch 7/10, Loss: 0.12876735927019392\n",
              "</pre>\n"
            ],
            "text/plain": [
              "19:38:22.991 | \u001b[36mINFO\u001b[0m    | Task run 'Train model-0' - Epoch 7/10, Loss: 0.12876735927019392\n"
            ]
          },
          "metadata": {},
          "output_type": "display_data"
        },
        {
          "data": {
            "text/html": [
              "<pre style=\"white-space:pre;overflow-x:auto;line-height:normal;font-family:Menlo,'DejaVu Sans Mono',consolas,'Courier New',monospace\">19:38:30.777 | <span style=\"color: #008080; text-decoration-color: #008080\">INFO</span>    | Task run 'Train model-0' - Epoch 8/10, Loss: 0.12234787259759874\n",
              "</pre>\n"
            ],
            "text/plain": [
              "19:38:30.777 | \u001b[36mINFO\u001b[0m    | Task run 'Train model-0' - Epoch 8/10, Loss: 0.12234787259759874\n"
            ]
          },
          "metadata": {},
          "output_type": "display_data"
        },
        {
          "data": {
            "text/html": [
              "<pre style=\"white-space:pre;overflow-x:auto;line-height:normal;font-family:Menlo,'DejaVu Sans Mono',consolas,'Courier New',monospace\">19:38:38.471 | <span style=\"color: #008080; text-decoration-color: #008080\">INFO</span>    | Task run 'Train model-0' - Epoch 9/10, Loss: 0.11698825470581442\n",
              "</pre>\n"
            ],
            "text/plain": [
              "19:38:38.471 | \u001b[36mINFO\u001b[0m    | Task run 'Train model-0' - Epoch 9/10, Loss: 0.11698825470581442\n"
            ]
          },
          "metadata": {},
          "output_type": "display_data"
        },
        {
          "data": {
            "text/html": [
              "<pre style=\"white-space:pre;overflow-x:auto;line-height:normal;font-family:Menlo,'DejaVu Sans Mono',consolas,'Courier New',monospace\">19:38:46.560 | <span style=\"color: #008080; text-decoration-color: #008080\">INFO</span>    | Task run 'Train model-0' - Epoch 10/10, Loss: 0.11401156731671053\n",
              "</pre>\n"
            ],
            "text/plain": [
              "19:38:46.560 | \u001b[36mINFO\u001b[0m    | Task run 'Train model-0' - Epoch 10/10, Loss: 0.11401156731671053\n"
            ]
          },
          "metadata": {},
          "output_type": "display_data"
        },
        {
          "data": {
            "text/html": [
              "<pre style=\"white-space:pre;overflow-x:auto;line-height:normal;font-family:Menlo,'DejaVu Sans Mono',consolas,'Courier New',monospace\">19:38:46.562 | <span style=\"color: #008080; text-decoration-color: #008080\">INFO</span>    | Task run 'Train model-0' - ✅ Model trained successfully\n",
              "</pre>\n"
            ],
            "text/plain": [
              "19:38:46.562 | \u001b[36mINFO\u001b[0m    | Task run 'Train model-0' - ✅ Model trained successfully\n"
            ]
          },
          "metadata": {},
          "output_type": "display_data"
        },
        {
          "data": {
            "text/html": [
              "<pre style=\"white-space:pre;overflow-x:auto;line-height:normal;font-family:Menlo,'DejaVu Sans Mono',consolas,'Courier New',monospace\">19:38:46.790 | <span style=\"color: #008080; text-decoration-color: #008080\">INFO</span>    | Task run 'Train model-0' - Finished in state <span style=\"color: #008000; text-decoration-color: #008000\">Completed</span>()\n",
              "</pre>\n"
            ],
            "text/plain": [
              "19:38:46.790 | \u001b[36mINFO\u001b[0m    | Task run 'Train model-0' - Finished in state \u001b[32mCompleted\u001b[0m()\n"
            ]
          },
          "metadata": {},
          "output_type": "display_data"
        },
        {
          "data": {
            "text/html": [
              "<pre style=\"white-space:pre;overflow-x:auto;line-height:normal;font-family:Menlo,'DejaVu Sans Mono',consolas,'Courier New',monospace\">19:38:46.898 | <span style=\"color: #008080; text-decoration-color: #008080\">INFO</span>    | Flow run<span style=\"color: #800080; text-decoration-color: #800080\"> 'dynamic-rook'</span> - Created task run 'Test model-0' for task 'Test model'\n",
              "</pre>\n"
            ],
            "text/plain": [
              "19:38:46.898 | \u001b[36mINFO\u001b[0m    | Flow run\u001b[35m 'dynamic-rook'\u001b[0m - Created task run 'Test model-0' for task 'Test model'\n"
            ]
          },
          "metadata": {},
          "output_type": "display_data"
        },
        {
          "data": {
            "text/html": [
              "<pre style=\"white-space:pre;overflow-x:auto;line-height:normal;font-family:Menlo,'DejaVu Sans Mono',consolas,'Courier New',monospace\">19:38:46.901 | <span style=\"color: #008080; text-decoration-color: #008080\">INFO</span>    | Flow run<span style=\"color: #800080; text-decoration-color: #800080\"> 'dynamic-rook'</span> - Executing 'Test model-0' immediately...\n",
              "</pre>\n"
            ],
            "text/plain": [
              "19:38:46.901 | \u001b[36mINFO\u001b[0m    | Flow run\u001b[35m 'dynamic-rook'\u001b[0m - Executing 'Test model-0' immediately...\n"
            ]
          },
          "metadata": {},
          "output_type": "display_data"
        },
        {
          "data": {
            "text/html": [
              "<pre style=\"white-space:pre;overflow-x:auto;line-height:normal;font-family:Menlo,'DejaVu Sans Mono',consolas,'Courier New',monospace\">19:38:47.132 | <span style=\"color: #008080; text-decoration-color: #008080\">INFO</span>    | Task run 'Test model-0' - Test model...\n",
              "</pre>\n"
            ],
            "text/plain": [
              "19:38:47.132 | \u001b[36mINFO\u001b[0m    | Task run 'Test model-0' - Test model...\n"
            ]
          },
          "metadata": {},
          "output_type": "display_data"
        },
        {
          "data": {
            "text/html": [
              "<pre style=\"white-space:pre;overflow-x:auto;line-height:normal;font-family:Menlo,'DejaVu Sans Mono',consolas,'Courier New',monospace\">19:38:49.319 | <span style=\"color: #008080; text-decoration-color: #008080\">INFO</span>    | Task run 'Test model-0' - Accuracy on the test set: 127.98\n",
              "</pre>\n"
            ],
            "text/plain": [
              "19:38:49.319 | \u001b[36mINFO\u001b[0m    | Task run 'Test model-0' - Accuracy on the test set: 127.98\n"
            ]
          },
          "metadata": {},
          "output_type": "display_data"
        },
        {
          "data": {
            "text/html": [
              "<pre style=\"white-space:pre;overflow-x:auto;line-height:normal;font-family:Menlo,'DejaVu Sans Mono',consolas,'Courier New',monospace\">19:38:49.321 | <span style=\"color: #008080; text-decoration-color: #008080\">INFO</span>    | Task run 'Test model-0' - ✅ Model tested successfully\n",
              "</pre>\n"
            ],
            "text/plain": [
              "19:38:49.321 | \u001b[36mINFO\u001b[0m    | Task run 'Test model-0' - ✅ Model tested successfully\n"
            ]
          },
          "metadata": {},
          "output_type": "display_data"
        },
        {
          "data": {
            "text/html": [
              "<pre style=\"white-space:pre;overflow-x:auto;line-height:normal;font-family:Menlo,'DejaVu Sans Mono',consolas,'Courier New',monospace\">19:38:49.457 | <span style=\"color: #008080; text-decoration-color: #008080\">INFO</span>    | Task run 'Test model-0' - Finished in state <span style=\"color: #008000; text-decoration-color: #008000\">Completed</span>()\n",
              "</pre>\n"
            ],
            "text/plain": [
              "19:38:49.457 | \u001b[36mINFO\u001b[0m    | Task run 'Test model-0' - Finished in state \u001b[32mCompleted\u001b[0m()\n"
            ]
          },
          "metadata": {},
          "output_type": "display_data"
        },
        {
          "data": {
            "text/html": [
              "<pre style=\"white-space:pre;overflow-x:auto;line-height:normal;font-family:Menlo,'DejaVu Sans Mono',consolas,'Courier New',monospace\">19:38:49.579 | <span style=\"color: #008080; text-decoration-color: #008080\">INFO</span>    | Flow run<span style=\"color: #800080; text-decoration-color: #800080\"> 'dynamic-rook'</span> - Created task run 'Convert To ONNX-0' for task 'Convert To ONNX'\n",
              "</pre>\n"
            ],
            "text/plain": [
              "19:38:49.579 | \u001b[36mINFO\u001b[0m    | Flow run\u001b[35m 'dynamic-rook'\u001b[0m - Created task run 'Convert To ONNX-0' for task 'Convert To ONNX'\n"
            ]
          },
          "metadata": {},
          "output_type": "display_data"
        },
        {
          "data": {
            "text/html": [
              "<pre style=\"white-space:pre;overflow-x:auto;line-height:normal;font-family:Menlo,'DejaVu Sans Mono',consolas,'Courier New',monospace\">19:38:49.583 | <span style=\"color: #008080; text-decoration-color: #008080\">INFO</span>    | Flow run<span style=\"color: #800080; text-decoration-color: #800080\"> 'dynamic-rook'</span> - Executing 'Convert To ONNX-0' immediately...\n",
              "</pre>\n"
            ],
            "text/plain": [
              "19:38:49.583 | \u001b[36mINFO\u001b[0m    | Flow run\u001b[35m 'dynamic-rook'\u001b[0m - Executing 'Convert To ONNX-0' immediately...\n"
            ]
          },
          "metadata": {},
          "output_type": "display_data"
        },
        {
          "data": {
            "text/html": [
              "<pre style=\"white-space:pre;overflow-x:auto;line-height:normal;font-family:Menlo,'DejaVu Sans Mono',consolas,'Courier New',monospace\">19:38:50.058 | <span style=\"color: #008080; text-decoration-color: #008080\">INFO</span>    | Task run 'Convert To ONNX-0' - Model has been converted to ONNX and saved as ./verifiable_fraud.onnx\n",
              "</pre>\n"
            ],
            "text/plain": [
              "19:38:50.058 | \u001b[36mINFO\u001b[0m    | Task run 'Convert To ONNX-0' - Model has been converted to ONNX and saved as ./verifiable_fraud.onnx\n"
            ]
          },
          "metadata": {},
          "output_type": "display_data"
        },
        {
          "data": {
            "text/html": [
              "<pre style=\"white-space:pre;overflow-x:auto;line-height:normal;font-family:Menlo,'DejaVu Sans Mono',consolas,'Courier New',monospace\">19:38:50.178 | <span style=\"color: #008080; text-decoration-color: #008080\">INFO</span>    | Task run 'Convert To ONNX-0' - Finished in state <span style=\"color: #008000; text-decoration-color: #008000\">Completed</span>()\n",
              "</pre>\n"
            ],
            "text/plain": [
              "19:38:50.178 | \u001b[36mINFO\u001b[0m    | Task run 'Convert To ONNX-0' - Finished in state \u001b[32mCompleted\u001b[0m()\n"
            ]
          },
          "metadata": {},
          "output_type": "display_data"
        },
        {
          "data": {
            "text/html": [
              "<pre style=\"white-space:pre;overflow-x:auto;line-height:normal;font-family:Menlo,'DejaVu Sans Mono',consolas,'Courier New',monospace\">19:38:50.301 | <span style=\"color: #008080; text-decoration-color: #008080\">INFO</span>    | Flow run<span style=\"color: #800080; text-decoration-color: #800080\"> 'dynamic-rook'</span> - Finished in state <span style=\"color: #008000; text-decoration-color: #008000\">Completed</span>('All states completed.')\n",
              "</pre>\n"
            ],
            "text/plain": [
              "19:38:50.301 | \u001b[36mINFO\u001b[0m    | Flow run\u001b[35m 'dynamic-rook'\u001b[0m - Finished in state \u001b[32mCompleted\u001b[0m('All states completed.')\n"
            ]
          },
          "metadata": {},
          "output_type": "display_data"
        },
        {
          "data": {
            "text/plain": [
              "[Completed(message=None, type=COMPLETED, result=UnpersistedResult(type='unpersisted', artifact_type='result', artifact_description='Unpersisted result of type `tuple`')),\n",
              " Completed(message=None, type=COMPLETED, result=UnpersistedResult(type='unpersisted', artifact_type='result', artifact_description='Unpersisted result of type `tuple`')),\n",
              " Completed(message=None, type=COMPLETED, result=UnpersistedResult(type='unpersisted', artifact_type='result', artifact_description='Unpersisted result of type `FraudClassifier`')),\n",
              " Completed(message=None, type=COMPLETED, result=UnpersistedResult(type='unpersisted', artifact_type='result', artifact_description='Unpersisted result of type `float`')),\n",
              " Completed(message=None, type=COMPLETED, result=UnpersistedResult(type='unpersisted', artifact_type='result', artifact_description='Unpersisted result of type `NoneType`'))]"
            ]
          },
          "execution_count": 92,
          "metadata": {},
          "output_type": "execute_result"
        }
      ],
      "source": [
        "import torch.onnx\n",
        "\n",
        "@task(name=f'Convert To ONNX')\n",
        "def convert_to_onnx(model, onnx_file_path):\n",
        "    dummy_input = torch.randn(1, input_size).to(device)\n",
        "    torch.onnx.export(model, dummy_input, onnx_file_path,\n",
        "                      export_params=True, opset_version=10, do_constant_folding=True)\n",
        "\n",
        "    print(f\"Model has been converted to ONNX and saved as {onnx_file_path}\")\n",
        "\n",
        "\n",
        "@action(name=\"Action: Convert To ONNX\", log_prints=True)\n",
        "def execution():\n",
        "    x_train, y_train, x_test, y_test = prepare_datasets()\n",
        "    train_loader, test_loader = create_data_loaders(\n",
        "        x_train, y_train, x_test, y_test)\n",
        "    model = train_model(train_loader)\n",
        "    test_model(model, test_loader)\n",
        "\n",
        "    # Convert to ONNX\n",
        "    onnx_file_path = \"./verifiable_fraud.onnx\"\n",
        "    convert_to_onnx(model, onnx_file_path)\n",
        "\n",
        "\n",
        "execution()"
      ]
    },
    {
      "cell_type": "code",
      "execution_count": 106,
      "metadata": {},
      "outputs": [
        {
          "name": "stdout",
          "output_type": "stream",
          "text": [
            "Prepare dataset...\n",
            "✅ Datasets prepared successfully\n",
            "Input: [[ 54.      693.        2.        1.       40.        9.      408.15845]]\n",
            "Result of Model: [[0.999619]]\n",
            "Output of Model: 1\n",
            "Correct Output:  1.0\n",
            "✅ Prediction with ONNX completed successfully\n"
          ]
        },
        {
          "data": {
            "text/plain": [
              "1"
            ]
          },
          "execution_count": 106,
          "metadata": {},
          "output_type": "execute_result"
        }
      ],
      "source": [
        "from giza_actions.model import GizaModel\n",
        "import torch.nn.functional as F\n",
        "\n",
        "def prepare_datasets():\n",
        "    print(\"Prepare dataset...\")\n",
        "    x_train = torch.tensor(X_train.values, dtype=torch.float32)\n",
        "    y_train = torch.tensor(Y_train.values, dtype=torch.float32)\n",
        "    x_test = torch.tensor(X_test.values, dtype=torch.float32)\n",
        "    y_test = torch.tensor(Y_test.values, dtype=torch.float32)\n",
        "    print(\"✅ Datasets prepared successfully\")\n",
        "    return x_train, y_train, x_test, y_test\n",
        "\n",
        "\n",
        "# @task(name=f'Prediction with ONNX')\n",
        "def prediction(input):\n",
        "    model = GizaModel(model_path=\"./verifiable_fraud.onnx\")\n",
        "\n",
        "    numpy_input = input.numpy().reshape(1, -1)\n",
        "    print(f\"Input: {numpy_input}\")\n",
        "\n",
        "    result = model.predict(\n",
        "        input_feed={\"onnx::Gemm_0\": numpy_input}, verifiable=False\n",
        "    )\n",
        "    print(f\"Result of Model: {result}\")\n",
        "    if result[0] > 0.5:\n",
        "        result = 1\n",
        "    else:\n",
        "        result = 0\n",
        "    return result\n",
        "\n",
        "\n",
        "# @action(name=f'Execution: Prediction with ONNX', log_prints=True )\n",
        "def execution():\n",
        "    x_train, y_train, x_test, y_test = prepare_datasets()\n",
        "    outputs = prediction(x_test[0])\n",
        "    print(f\"Output of Model: {outputs}\")\n",
        "    print(\"Correct Output: \", y_test[0].item())\n",
        "    print(\"✅ Prediction with ONNX completed successfully\")\n",
        "\n",
        "    return outputs\n",
        "\n",
        "\n",
        "execution()"
      ]
    },
    {
      "cell_type": "code",
      "execution_count": 107,
      "metadata": {},
      "outputs": [
        {
          "data": {
            "text/html": [
              "<pre style=\"white-space:pre;overflow-x:auto;line-height:normal;font-family:Menlo,'DejaVu Sans Mono',consolas,'Courier New',monospace\">20:28:04.410 | <span style=\"color: #008080; text-decoration-color: #008080\">INFO</span>    | prefect.engine - Created flow run<span style=\"color: #800080; text-decoration-color: #800080\"> 'voracious-dachshund'</span> for flow<span style=\"color: #800080; text-decoration-color: #800080; font-weight: bold\"> 'Execution: Prediction with Cairo'</span>\n",
              "</pre>\n"
            ],
            "text/plain": [
              "20:28:04.410 | \u001b[36mINFO\u001b[0m    | prefect.engine - Created flow run\u001b[35m 'voracious-dachshund'\u001b[0m for flow\u001b[1;35m 'Execution: Prediction with Cairo'\u001b[0m\n"
            ]
          },
          "metadata": {},
          "output_type": "display_data"
        },
        {
          "data": {
            "text/html": [
              "<pre style=\"white-space:pre;overflow-x:auto;line-height:normal;font-family:Menlo,'DejaVu Sans Mono',consolas,'Courier New',monospace\">20:28:04.419 | <span style=\"color: #008080; text-decoration-color: #008080\">INFO</span>    | Flow run<span style=\"color: #800080; text-decoration-color: #800080\"> 'voracious-dachshund'</span> - View at <span style=\"color: #0000ff; text-decoration-color: #0000ff\">https://actions-server-bilgin-kocak-dblzzhtf5q-ew.a.run.app/flow-runs/flow-run/d36bdb9b-8869-4caf-b909-689f3d0704a9</span>\n",
              "</pre>\n"
            ],
            "text/plain": [
              "20:28:04.419 | \u001b[36mINFO\u001b[0m    | Flow run\u001b[35m 'voracious-dachshund'\u001b[0m - View at \u001b[94mhttps://actions-server-bilgin-kocak-dblzzhtf5q-ew.a.run.app/flow-runs/flow-run/d36bdb9b-8869-4caf-b909-689f3d0704a9\u001b[0m\n"
            ]
          },
          "metadata": {},
          "output_type": "display_data"
        },
        {
          "data": {
            "text/html": [
              "<pre style=\"white-space:pre;overflow-x:auto;line-height:normal;font-family:Menlo,'DejaVu Sans Mono',consolas,'Courier New',monospace\">20:28:04.632 | <span style=\"color: #008080; text-decoration-color: #008080\">INFO</span>    | Flow run<span style=\"color: #800080; text-decoration-color: #800080\"> 'voracious-dachshund'</span> - Prepare dataset...\n",
              "</pre>\n"
            ],
            "text/plain": [
              "20:28:04.632 | \u001b[36mINFO\u001b[0m    | Flow run\u001b[35m 'voracious-dachshund'\u001b[0m - Prepare dataset...\n"
            ]
          },
          "metadata": {},
          "output_type": "display_data"
        },
        {
          "data": {
            "text/html": [
              "<pre style=\"white-space:pre;overflow-x:auto;line-height:normal;font-family:Menlo,'DejaVu Sans Mono',consolas,'Courier New',monospace\">20:28:04.701 | <span style=\"color: #008080; text-decoration-color: #008080\">INFO</span>    | Flow run<span style=\"color: #800080; text-decoration-color: #800080\"> 'voracious-dachshund'</span> - ✅ Datasets prepared successfully\n",
              "</pre>\n"
            ],
            "text/plain": [
              "20:28:04.701 | \u001b[36mINFO\u001b[0m    | Flow run\u001b[35m 'voracious-dachshund'\u001b[0m - ✅ Datasets prepared successfully\n"
            ]
          },
          "metadata": {},
          "output_type": "display_data"
        },
        {
          "data": {
            "text/html": [
              "<pre style=\"white-space:pre;overflow-x:auto;line-height:normal;font-family:Menlo,'DejaVu Sans Mono',consolas,'Courier New',monospace\">20:28:04.811 | <span style=\"color: #008080; text-decoration-color: #008080\">INFO</span>    | Flow run<span style=\"color: #800080; text-decoration-color: #800080\"> 'voracious-dachshund'</span> - Created task run 'Prediction with Cairo-0' for task 'Prediction with Cairo'\n",
              "</pre>\n"
            ],
            "text/plain": [
              "20:28:04.811 | \u001b[36mINFO\u001b[0m    | Flow run\u001b[35m 'voracious-dachshund'\u001b[0m - Created task run 'Prediction with Cairo-0' for task 'Prediction with Cairo'\n"
            ]
          },
          "metadata": {},
          "output_type": "display_data"
        },
        {
          "data": {
            "text/html": [
              "<pre style=\"white-space:pre;overflow-x:auto;line-height:normal;font-family:Menlo,'DejaVu Sans Mono',consolas,'Courier New',monospace\">20:28:04.813 | <span style=\"color: #008080; text-decoration-color: #008080\">INFO</span>    | Flow run<span style=\"color: #800080; text-decoration-color: #800080\"> 'voracious-dachshund'</span> - Executing 'Prediction with Cairo-0' immediately...\n",
              "</pre>\n"
            ],
            "text/plain": [
              "20:28:04.813 | \u001b[36mINFO\u001b[0m    | Flow run\u001b[35m 'voracious-dachshund'\u001b[0m - Executing 'Prediction with Cairo-0' immediately...\n"
            ]
          },
          "metadata": {},
          "output_type": "display_data"
        },
        {
          "name": "stdout",
          "output_type": "stream",
          "text": [
            "🚀 Starting deserialization process...\n",
            "✅ Deserialization completed! 🎉\n"
          ]
        },
        {
          "data": {
            "text/html": [
              "<pre style=\"white-space:pre;overflow-x:auto;line-height:normal;font-family:Menlo,'DejaVu Sans Mono',consolas,'Courier New',monospace\">20:28:11.554 | <span style=\"color: #008080; text-decoration-color: #008080\">INFO</span>    | Task run 'Prediction with Cairo-0' - Finished in state <span style=\"color: #008000; text-decoration-color: #008000\">Completed</span>()\n",
              "</pre>\n"
            ],
            "text/plain": [
              "20:28:11.554 | \u001b[36mINFO\u001b[0m    | Task run 'Prediction with Cairo-0' - Finished in state \u001b[32mCompleted\u001b[0m()\n"
            ]
          },
          "metadata": {},
          "output_type": "display_data"
        },
        {
          "data": {
            "text/html": [
              "<pre style=\"white-space:pre;overflow-x:auto;line-height:normal;font-family:Menlo,'DejaVu Sans Mono',consolas,'Courier New',monospace\">20:28:11.560 | <span style=\"color: #008080; text-decoration-color: #008080\">INFO</span>    | Flow run<span style=\"color: #800080; text-decoration-color: #800080\"> 'voracious-dachshund'</span> - Result:  tensor([[0.9996]], dtype=torch.float64)\n",
              "</pre>\n"
            ],
            "text/plain": [
              "20:28:11.560 | \u001b[36mINFO\u001b[0m    | Flow run\u001b[35m 'voracious-dachshund'\u001b[0m - Result:  tensor([[0.9996]], dtype=torch.float64)\n"
            ]
          },
          "metadata": {},
          "output_type": "display_data"
        },
        {
          "data": {
            "text/html": [
              "<pre style=\"white-space:pre;overflow-x:auto;line-height:normal;font-family:Menlo,'DejaVu Sans Mono',consolas,'Courier New',monospace\">20:28:11.563 | <span style=\"color: #008080; text-decoration-color: #008080\">INFO</span>    | Flow run<span style=\"color: #800080; text-decoration-color: #800080\"> 'voracious-dachshund'</span> - Request id:  \"a593b274de074d248fdd341fed1b0c95\"\n",
              "</pre>\n"
            ],
            "text/plain": [
              "20:28:11.563 | \u001b[36mINFO\u001b[0m    | Flow run\u001b[35m 'voracious-dachshund'\u001b[0m - Request id:  \"a593b274de074d248fdd341fed1b0c95\"\n"
            ]
          },
          "metadata": {},
          "output_type": "display_data"
        },
        {
          "data": {
            "text/html": [
              "<pre style=\"white-space:pre;overflow-x:auto;line-height:normal;font-family:Menlo,'DejaVu Sans Mono',consolas,'Courier New',monospace\">20:28:11.683 | <span style=\"color: #008080; text-decoration-color: #008080\">INFO</span>    | Flow run<span style=\"color: #800080; text-decoration-color: #800080\"> 'voracious-dachshund'</span> - Finished in state <span style=\"color: #008000; text-decoration-color: #008000\">Completed</span>()\n",
              "</pre>\n"
            ],
            "text/plain": [
              "20:28:11.683 | \u001b[36mINFO\u001b[0m    | Flow run\u001b[35m 'voracious-dachshund'\u001b[0m - Finished in state \u001b[32mCompleted\u001b[0m()\n"
            ]
          },
          "metadata": {},
          "output_type": "display_data"
        },
        {
          "data": {
            "text/plain": [
              "(tensor([[0.9996]], dtype=torch.float64), '\"a593b274de074d248fdd341fed1b0c95\"')"
            ]
          },
          "execution_count": 107,
          "metadata": {},
          "output_type": "execute_result"
        }
      ],
      "source": [
        "MODEL_ID = 392  # Update with your model ID\n",
        "VERSION_ID = 1  # Update with your version ID\n",
        "\n",
        "\n",
        "@task(name=f'Prediction with Cairo')\n",
        "def prediction(input, model_id, version_id):\n",
        "\n",
        "    numpy_input = input.numpy().reshape(1, -1)\n",
        "    model = GizaModel(id=model_id, version=version_id)\n",
        "\n",
        "    (result, request_id) = model.predict(\n",
        "        input_feed={\"input\": numpy_input}, verifiable=True, output_dtype=\"Tensor<FP16x16>\"\n",
        "    )\n",
        "\n",
        "    # Convert result to a PyTorch tensor\n",
        "    result_tensor = torch.tensor(result)\n",
        "\n",
        "    return result_tensor, request_id\n",
        "\n",
        "\n",
        "@action(name=f'Execution: Prediction with Cairo', log_prints=True)\n",
        "def execution():\n",
        "    x_train, y_train, x_test, y_test = prepare_datasets()\n",
        "\n",
        "    (result, request_id) = prediction(x_test[0], MODEL_ID, VERSION_ID)\n",
        "    print(\"Result: \", result)\n",
        "    print(\"Request id: \", request_id)\n",
        "\n",
        "    return result, request_id\n",
        "\n",
        "\n",
        "execution()"
      ]
    },
    {
      "cell_type": "code",
      "execution_count": 111,
      "metadata": {},
      "outputs": [
        {
          "name": "stdout",
          "output_type": "stream",
          "text": [
            "\u001b[1;33m[\u001b[0m\u001b[33mWARN\u001b[0m\u001b[1;33m]\u001b[0m\u001b[1m[\u001b[0m\u001b[1;36m2024\u001b[0m-\u001b[1;36m02\u001b[0m-\u001b[1;36m26\u001b[0m \u001b[1;92m20:55:40\u001b[0m.\u001b[1;36m630\u001b[0m\u001b[1m]\u001b[0m \u001b[33mCurrent version of Giza CLI: \u001b[0m\u001b[1;33m0.11\u001b[0m\u001b[33m.\u001b[0m\u001b[1;33m0\u001b[0m\n",
            "\u001b[1;33m[\u001b[0m\u001b[33mWARN\u001b[0m\u001b[1;33m]\u001b[0m\u001b[1m[\u001b[0m\u001b[1;36m2024\u001b[0m-\u001b[1;36m02\u001b[0m-\u001b[1;36m26\u001b[0m \u001b[1;92m20:55:40\u001b[0m.\u001b[1;36m634\u001b[0m\u001b[1m]\u001b[0m \u001b[33mA new version \u001b[0m\u001b[1;33m(\u001b[0m\u001b[1;33m0.12\u001b[0m\u001b[33m.\u001b[0m\u001b[1;33m1\u001b[0m\u001b[1;33m)\u001b[0m\u001b[33m is available. Please upgrade 🔔\u001b[0m\n",
            "\u001b[1;33m[\u001b[0m\u001b[33mgiza\u001b[0m\u001b[1;33m]\u001b[0m\u001b[1m[\u001b[0m\u001b[1;36m2024\u001b[0m-\u001b[1;36m02\u001b[0m-\u001b[1;36m26\u001b[0m \u001b[1;92m20:55:40\u001b[0m.\u001b[1;36m639\u001b[0m\u001b[1m]\u001b[0m Getting proof from deployment \u001b[1;36m70\u001b[0m ✅ \n",
            "\u001b[1;31m[\u001b[0m\u001b[31mERROR\u001b[0m\u001b[1;31m]\u001b[0m\u001b[1m[\u001b[0m\u001b[1;36m2024\u001b[0m-\u001b[1;36m02\u001b[0m-\u001b[1;36m26\u001b[0m \u001b[1;92m20:55:41\u001b[0m.\u001b[1;36m251\u001b[0m\u001b[1m]\u001b[0m \u001b[31m⛔️Could not get deployment \u001b[0m\u001b[1;31m70\u001b[0m\n",
            "\u001b[1;31m[\u001b[0m\u001b[31mERROR\u001b[0m\u001b[1;31m]\u001b[0m\u001b[1m[\u001b[0m\u001b[1;36m2024\u001b[0m-\u001b[1;36m02\u001b[0m-\u001b[1;36m26\u001b[0m \u001b[1;92m20:55:41\u001b[0m.\u001b[1;36m252\u001b[0m\u001b[1m]\u001b[0m \u001b[31m⛔️Detail -> ⛔️\u001b[0m\n",
            "\u001b[1;31m[\u001b[0m\u001b[31mERROR\u001b[0m\u001b[1;31m]\u001b[0m\u001b[1m[\u001b[0m\u001b[1;36m2024\u001b[0m-\u001b[1;36m02\u001b[0m-\u001b[1;36m26\u001b[0m \u001b[1;92m20:55:41\u001b[0m.\u001b[1;36m253\u001b[0m\u001b[1m]\u001b[0m \u001b[31m⛔️Status code -> \u001b[0m\u001b[1;31m500\u001b[0m\u001b[31m⛔️\u001b[0m\n",
            "\u001b[1;31m[\u001b[0m\u001b[31mERROR\u001b[0m\u001b[1;31m]\u001b[0m\u001b[1m[\u001b[0m\u001b[1;36m2024\u001b[0m-\u001b[1;36m02\u001b[0m-\u001b[1;36m26\u001b[0m \u001b[1;92m20:55:41\u001b[0m.\u001b[1;36m254\u001b[0m\u001b[1m]\u001b[0m \u001b[31m⛔️Error message -> Internal Server Error⛔️\u001b[0m\n"
          ]
        }
      ],
      "source": [
        "!giza deployments download-proof --model-id 392 --version-id 1  --deployment-id 70 --proof-id a593b274de074d248fdd341fed1b0c95 --output-path proof.json"
      ]
    },
    {
      "cell_type": "markdown",
      "metadata": {
        "_uuid": "ef0e8b46a02a3ba1e3b7df37a4b9279428569adb",
        "id": "_2JROkNLt6ci"
      },
      "source": [
        "## Conclusion\n",
        "\n",
        "In the rapidly evolving digital landscape, the specter of financial fraud looms large, presenting anongoing challenge for sectors ranging from e-commerce to banking. The advent of sophisticated fraudulent schemes has necessitated the development of equally advanced detection mechanisms. This kernel explores the integration of verifiable machine learning (ML) using Giza Actions SDK [[3]](#3) in crafting a fraud detection model that not only identifies fraudulent transactions with high accuracy but also ensures the integrity and verifiability of the detection process itself. Leveraging the Banksim dataset, a synthetic representation of typical banking transactions, this study underscores the potential of combining traditional rule-based systems with the dynamic, learning-oriented approach of ML."
      ]
    },
    {
      "cell_type": "markdown",
      "metadata": {
        "_uuid": "3d840bf8b52b3514a2ae86f17f2bed7235f4a927",
        "id": "n0t_C9kNt6ci"
      },
      "source": [
        "## Resources\n",
        "\n",
        "[[1]](#-1). Lavion, Didier; et al. [\"PwC's Global Economic Crime and Fraud Survey 2018\"](https://www.pwc.com/gx/en/forensics/global-economic-crime-and-fraud-survey-2018.pdf) (PDF). PwC.com. Retrieved 28 August 2018.\n",
        "\n",
        "[[2]](#2). [SMOTE: Synthetic Minority Over-sampling Technique](https://jair.org/index.php/jair/article/view/10302)\n",
        "\n",
        "[[3]](#3). [Giza Actions SDK](https://actions.gizatech.xyz/welcome/giza-actions-sdk)"
      ]
    },
    {
      "cell_type": "code",
      "execution_count": null,
      "metadata": {},
      "outputs": [],
      "source": []
    },
    {
      "cell_type": "code",
      "execution_count": null,
      "metadata": {
        "id": "0i8_PsCpt6cj",
        "trusted": true
      },
      "outputs": [],
      "source": []
    }
  ],
  "metadata": {
    "colab": {
      "provenance": []
    },
    "kernelspec": {
      "display_name": "Python 3",
      "language": "python",
      "name": "python3"
    },
    "language_info": {
      "codemirror_mode": {
        "name": "ipython",
        "version": 3
      },
      "file_extension": ".py",
      "mimetype": "text/x-python",
      "name": "python",
      "nbconvert_exporter": "python",
      "pygments_lexer": "ipython3",
      "version": "3.11.7"
    }
  },
  "nbformat": 4,
  "nbformat_minor": 0
}
